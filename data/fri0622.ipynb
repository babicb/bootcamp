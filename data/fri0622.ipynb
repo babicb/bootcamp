{
 "cells": [
  {
   "cell_type": "code",
   "execution_count": 13,
   "metadata": {},
   "outputs": [],
   "source": [
    "import numpy as np \n",
    "import pandas as pd \n",
    "\n",
    "import scipy.optimize\n",
    "\n",
    "import altair as alt \n",
    "\n",
    "import bootcamp_utils"
   ]
  },
  {
   "cell_type": "code",
   "execution_count": 3,
   "metadata": {},
   "outputs": [],
   "source": [
    "df = pd.read_csv('~/git/Bootcamp/data/bcd_gradient.csv', comment=\"#\")"
   ]
  },
  {
   "cell_type": "code",
   "execution_count": 7,
   "metadata": {},
   "outputs": [
    {
     "data": {
      "text/html": [
       "<div>\n",
       "<style scoped>\n",
       "    .dataframe tbody tr th:only-of-type {\n",
       "        vertical-align: middle;\n",
       "    }\n",
       "\n",
       "    .dataframe tbody tr th {\n",
       "        vertical-align: top;\n",
       "    }\n",
       "\n",
       "    .dataframe thead th {\n",
       "        text-align: right;\n",
       "    }\n",
       "</style>\n",
       "<table border=\"1\" class=\"dataframe\">\n",
       "  <thead>\n",
       "    <tr style=\"text-align: right;\">\n",
       "      <th></th>\n",
       "      <th>fractional distance from anterior</th>\n",
       "      <th>bcd</th>\n",
       "    </tr>\n",
       "  </thead>\n",
       "  <tbody>\n",
       "    <tr>\n",
       "      <th>0</th>\n",
       "      <td>0.002645</td>\n",
       "      <td>0.863097</td>\n",
       "    </tr>\n",
       "    <tr>\n",
       "      <th>1</th>\n",
       "      <td>0.034223</td>\n",
       "      <td>0.863097</td>\n",
       "    </tr>\n",
       "    <tr>\n",
       "      <th>2</th>\n",
       "      <td>0.068446</td>\n",
       "      <td>0.745727</td>\n",
       "    </tr>\n",
       "    <tr>\n",
       "      <th>3</th>\n",
       "      <td>0.102629</td>\n",
       "      <td>0.654875</td>\n",
       "    </tr>\n",
       "    <tr>\n",
       "      <th>4</th>\n",
       "      <td>0.134207</td>\n",
       "      <td>0.545114</td>\n",
       "    </tr>\n",
       "  </tbody>\n",
       "</table>\n",
       "</div>"
      ],
      "text/plain": [
       "   fractional distance from anterior       bcd\n",
       "0                           0.002645  0.863097\n",
       "1                           0.034223  0.863097\n",
       "2                           0.068446  0.745727\n",
       "3                           0.102629  0.654875\n",
       "4                           0.134207  0.545114"
      ]
     },
     "execution_count": 7,
     "metadata": {},
     "output_type": "execute_result"
    }
   ],
   "source": [
    "df = df.rename(columns={'[bcd] (a.u.)': 'bcd'})\n",
    "df.head()"
   ]
  },
  {
   "cell_type": "code",
   "execution_count": 9,
   "metadata": {},
   "outputs": [
    {
     "data": {
      "application/vnd.vegalite.v2+json": {
       "$schema": "https://vega.github.io/schema/vega-lite/v2.4.3.json",
       "config": {
        "view": {
         "height": 300,
         "width": 400
        }
       },
       "data": {
        "values": [
         {
          "bcd": 0.8630969280563285,
          "fractional distance from anterior": 0.002644667245598801
         },
         {
          "bcd": 0.8630969280563285,
          "fractional distance from anterior": 0.034222783610957604
         },
         {
          "bcd": 0.7457271023791949,
          "fractional distance from anterior": 0.06844556722191521
         },
         {
          "bcd": 0.6548747941627394,
          "fractional distance from anterior": 0.10262887818741613
         },
         {
          "bcd": 0.5451138492987339,
          "fractional distance from anterior": 0.13420699455277493
         },
         {
          "bcd": 0.469365737323264,
          "fractional distance from anterior": 0.17107444540933134
         },
         {
          "bcd": 0.42393958321503616,
          "fractional distance from anterior": 0.20525775637483226
         },
         {
          "bcd": 0.3823178695133724,
          "fractional distance from anterior": 0.23948053998578986
         },
         {
          "bcd": 0.3444438135256374,
          "fractional distance from anterior": 0.2737033235967475
         },
         {
          "bcd": 0.28391346317642385,
          "fractional distance from anterior": 0.3078866345622484
         },
         {
          "bcd": 0.2649480438362388,
          "fractional distance from anterior": 0.342109418173206
         },
         {
          "bcd": 0.29527000170348083,
          "fractional distance from anterior": 0.37893739638430574
         },
         {
          "bcd": 0.2498438475952531,
          "fractional distance from anterior": 0.4105155127496644
         },
         {
          "bcd": 0.22713077054113914,
          "fractional distance from anterior": 0.4473829636062209
         },
         {
          "bcd": 0.2422349667821249,
          "fractional distance from anterior": 0.4815662745717218
         },
         {
          "bcd": 0.21577423201408216,
          "fractional distance from anterior": 0.5157890581826794
         },
         {
          "bcd": 0.2308784282550679,
          "fractional distance from anterior": 0.550011841793637
         },
         {
          "bcd": 0.22713077054113914,
          "fractional distance from anterior": 0.5868398200047367
         },
         {
          "bcd": 0.208165351200954,
          "fractional distance from anterior": 0.6210626036156943
         },
         {
          "bcd": 0.2044176934870252,
          "fractional distance from anterior": 0.6552459145811952
         },
         {
          "bcd": 0.1817046164329113,
          "fractional distance from anterior": 0.6894686981921528
         },
         {
          "bcd": 0.19680881267389705,
          "fractional distance from anterior": 0.7236914818031106
         },
         {
          "bcd": 0.2006132530804612,
          "fractional distance from anterior": 0.7578747927686114
         },
         {
          "bcd": 0.1817046164329113,
          "fractional distance from anterior": 0.792097576379569
         },
         {
          "bcd": 0.17790017602634725,
          "fractional distance from anterior": 0.8263203599905266
         },
         {
          "bcd": 0.1817046164329113,
          "fractional distance from anterior": 0.8605036709560274
         },
         {
          "bcd": 0.18925671455340426,
          "fractional distance from anterior": 0.894726454566985
         },
         {
          "bcd": 0.17790017602634725,
          "fractional distance from anterior": 0.9657772163890423
         }
        ]
       },
       "encoding": {
        "x": {
         "field": "fractional distance from anterior",
         "type": "quantitative"
        },
        "y": {
         "field": "bcd",
         "scale": {
          "domain": [
           0,
           1
          ]
         },
         "title": "[Bcd] (a.u.)",
         "type": "quantitative"
        }
       },
       "mark": "point"
      },
      "image/png": "[encoded data removed]",
      "text/plain": [
       "<VegaLite 2 object>\n",
       "\n",
       "If you see this message, it means the renderer has not been properly enabled\n",
       "for the frontend that you are using. For more information, see\n",
       "https://altair-viz.github.io/user_guide/troubleshooting.html\n"
      ]
     },
     "execution_count": 9,
     "metadata": {},
     "output_type": "execute_result"
    }
   ],
   "source": [
    "dots = alt.Chart(df\n",
    "                ).mark_point(\n",
    "                ).encode(\n",
    "                    x='fractional distance from anterior:Q',\n",
    "                    y=alt.Y('bcd:Q', title='[Bcd] (a.u.)', scale=alt.Scale(domain=[0, 1])))\n",
    "dots"
   ]
  },
  {
   "cell_type": "code",
   "execution_count": 31,
   "metadata": {},
   "outputs": [],
   "source": [
    "def bcd_gradient_model_first_try(x, I_0, a, lam):\n",
    "    \"\"\"Model for Bcd gradient: exponential decay plus background\"\"\"\n",
    "    return a + I_0 * np.exp(-x/lam)\n",
    "\n",
    "\n",
    "def bcd_gradient_model(x, I_0, a, lam):\n",
    "    if np.any(x < 0):\n",
    "        raise RuntimeError(\"All values of 'x' must be >= 0.\")\n",
    "    if np.any(np.array([I_0, a, lam]) < 0):\n",
    "        raise RuntimeError('All parameters must be >= 0.')\n",
    "    return a + I_0 * np.exp(-x/lam)"
   ]
  },
  {
   "cell_type": "code",
   "execution_count": 32,
   "metadata": {},
   "outputs": [],
   "source": [
    "#specify initial guesses \n",
    "\n",
    "I_0_guess = 0.7\n",
    "a_guess = 0.2 \n",
    "lam_guess = 1.0 \n",
    "\n",
    "p0 = np.array([I_0_guess, a_guess, lam_guess])"
   ]
  },
  {
   "cell_type": "code",
   "execution_count": 33,
   "metadata": {},
   "outputs": [],
   "source": [
    "p, _ = scipy.optimize.curve_fit(bcd_gradient_model_first_try,\n",
    "                                df['fractional distance from anterior'],\n",
    "                                df['bcd'],\n",
    "                                p0=p0)"
   ]
  },
  {
   "cell_type": "code",
   "execution_count": 23,
   "metadata": {},
   "outputs": [
    {
     "data": {
      "text/plain": [
       "array([0.76762162, 0.17423312, 0.18712895])"
      ]
     },
     "execution_count": 23,
     "metadata": {},
     "output_type": "execute_result"
    }
   ],
   "source": [
    "p"
   ]
  },
  {
   "cell_type": "code",
   "execution_count": 35,
   "metadata": {},
   "outputs": [],
   "source": [
    "def bcd_gradient_model_log_params(x, log_I_0, log_a, log_lam):\n",
    "    #exponentiate the parameters\n",
    "    I_0, a, lam = np.exp(np.array([log_I_0, log_a, log_lam]))\n",
    "    return bcd_gradient_model(x, I_0, a, lam)"
   ]
  },
  {
   "cell_type": "code",
   "execution_count": 37,
   "metadata": {},
   "outputs": [],
   "source": [
    "log_p0 = np.log(p0)"
   ]
  },
  {
   "cell_type": "code",
   "execution_count": 38,
   "metadata": {},
   "outputs": [
    {
     "data": {
      "text/plain": [
       "array([0.76762142, 0.17423289, 0.18712931])"
      ]
     },
     "execution_count": 38,
     "metadata": {},
     "output_type": "execute_result"
    }
   ],
   "source": [
    "log_p, _ = scipy.optimize.curve_fit(bcd_gradient_model_log_params, \n",
    "                                   df['fractional distance from anterior'], \n",
    "                                   df['bcd'],\n",
    "                                   p0 = log_p0)\n",
    "p = np.exp(log_p)\n",
    "\n",
    "p"
   ]
  },
  {
   "cell_type": "code",
   "execution_count": 48,
   "metadata": {},
   "outputs": [
    {
     "data": {
      "text/html": [
       "<div>\n",
       "<style scoped>\n",
       "    .dataframe tbody tr th:only-of-type {\n",
       "        vertical-align: middle;\n",
       "    }\n",
       "\n",
       "    .dataframe tbody tr th {\n",
       "        vertical-align: top;\n",
       "    }\n",
       "\n",
       "    .dataframe thead th {\n",
       "        text-align: right;\n",
       "    }\n",
       "</style>\n",
       "<table border=\"1\" class=\"dataframe\">\n",
       "  <thead>\n",
       "    <tr style=\"text-align: right;\">\n",
       "      <th></th>\n",
       "      <th>band</th>\n",
       "      <th>beak depth (mm)</th>\n",
       "      <th>beak length (mm)</th>\n",
       "      <th>species</th>\n",
       "      <th>year</th>\n",
       "    </tr>\n",
       "  </thead>\n",
       "  <tbody>\n",
       "    <tr>\n",
       "      <th>1275</th>\n",
       "      <td>15718</td>\n",
       "      <td>7.77</td>\n",
       "      <td>10.75</td>\n",
       "      <td>scandens</td>\n",
       "      <td>1987</td>\n",
       "    </tr>\n",
       "    <tr>\n",
       "      <th>1276</th>\n",
       "      <td>5594</td>\n",
       "      <td>7.94</td>\n",
       "      <td>13.73</td>\n",
       "      <td>scandens</td>\n",
       "      <td>1987</td>\n",
       "    </tr>\n",
       "    <tr>\n",
       "      <th>1277</th>\n",
       "      <td>15235</td>\n",
       "      <td>7.96</td>\n",
       "      <td>14.04</td>\n",
       "      <td>scandens</td>\n",
       "      <td>1987</td>\n",
       "    </tr>\n",
       "    <tr>\n",
       "      <th>1278</th>\n",
       "      <td>15252</td>\n",
       "      <td>8.00</td>\n",
       "      <td>12.50</td>\n",
       "      <td>scandens</td>\n",
       "      <td>1987</td>\n",
       "    </tr>\n",
       "    <tr>\n",
       "      <th>1279</th>\n",
       "      <td>15847</td>\n",
       "      <td>8.01</td>\n",
       "      <td>12.64</td>\n",
       "      <td>scandens</td>\n",
       "      <td>1987</td>\n",
       "    </tr>\n",
       "  </tbody>\n",
       "</table>\n",
       "</div>"
      ],
      "text/plain": [
       "       band  beak depth (mm)  beak length (mm)   species  year\n",
       "1275  15718             7.77             10.75  scandens  1987\n",
       "1276   5594             7.94             13.73  scandens  1987\n",
       "1277  15235             7.96             14.04  scandens  1987\n",
       "1278  15252             8.00             12.50  scandens  1987\n",
       "1279  15847             8.01             12.64  scandens  1987"
      ]
     },
     "execution_count": 48,
     "metadata": {},
     "output_type": "execute_result"
    }
   ],
   "source": [
    "df = pd.read_csv('grant_complete.csv', comment='#')   \n",
    "df = df.loc[(df['year']==1987) & (df['species']=='scandens'), :]\n",
    "#df = df.drop_duplicates(subset=['band'])\n",
    "#df = df[['beak length (mm)', 'beak depth (mm)'']]   \n",
    "df.head()"
   ]
  },
  {
   "cell_type": "code",
   "execution_count": 51,
   "metadata": {},
   "outputs": [],
   "source": [
    "dots = alt.Chart(df\n",
    "                ).mark_point(\n",
    "                ).encode(\n",
    "                    alt.X('beak length (mm):Q', scale=alt.Scale(zero=False)),\n",
    "                    alt.Y('beak depth (mm):Q', scale=alt.Scale(zero=False)),\n",
    ")"
   ]
  },
  {
   "cell_type": "code",
   "execution_count": 52,
   "metadata": {},
   "outputs": [
    {
     "data": {
      "application/vnd.vegalite.v2+json": {
       "$schema": "https://vega.github.io/schema/vega-lite/v2.4.3.json",
       "config": {
        "view": {
         "height": 300,
         "width": 400
        }
       },
       "data": {
        "values": [
         {
          "band": 15718,
          "beak depth (mm)": 7.77,
          "beak length (mm)": 10.75,
          "species": "scandens",
          "year": 1987
         },
         {
          "band": 5594,
          "beak depth (mm)": 7.94,
          "beak length (mm)": 13.73,
          "species": "scandens",
          "year": 1987
         },
         {
          "band": 15235,
          "beak depth (mm)": 7.96,
          "beak length (mm)": 14.04,
          "species": "scandens",
          "year": 1987
         },
         {
          "band": 15252,
          "beak depth (mm)": 8,
          "beak length (mm)": 12.5,
          "species": "scandens",
          "year": 1987
         },
         {
          "band": 15847,
          "beak depth (mm)": 8.01,
          "beak length (mm)": 12.64,
          "species": "scandens",
          "year": 1987
         },
         {
          "band": 15139,
          "beak depth (mm)": 8.23,
          "beak length (mm)": 12.66,
          "species": "scandens",
          "year": 1987
         },
         {
          "band": 15237,
          "beak depth (mm)": 8.3,
          "beak length (mm)": 13,
          "species": "scandens",
          "year": 1987
         },
         {
          "band": 4045,
          "beak depth (mm)": 8.36,
          "beak length (mm)": 13.15,
          "species": "scandens",
          "year": 1987
         },
         {
          "band": 8443,
          "beak depth (mm)": 8.37,
          "beak length (mm)": 13.96,
          "species": "scandens",
          "year": 1987
         },
         {
          "band": 15798,
          "beak depth (mm)": 8.4,
          "beak length (mm)": 13.15,
          "species": "scandens",
          "year": 1987
         },
         {
          "band": 14786,
          "beak depth (mm)": 8.4,
          "beak length (mm)": 13.7,
          "species": "scandens",
          "year": 1987
         },
         {
          "band": 364,
          "beak depth (mm)": 8.4,
          "beak length (mm)": 14,
          "species": "scandens",
          "year": 1987
         },
         {
          "band": 10001,
          "beak depth (mm)": 8.41,
          "beak length (mm)": 13.43,
          "species": "scandens",
          "year": 1987
         },
         {
          "band": 15119,
          "beak depth (mm)": 8.5,
          "beak length (mm)": 14,
          "species": "scandens",
          "year": 1987
         },
         {
          "band": 15676,
          "beak depth (mm)": 8.5,
          "beak length (mm)": 14.9,
          "species": "scandens",
          "year": 1987
         },
         {
          "band": 15476,
          "beak depth (mm)": 8.6,
          "beak length (mm)": 13.6,
          "species": "scandens",
          "year": 1987
         },
         {
          "band": 14576,
          "beak depth (mm)": 8.6,
          "beak length (mm)": 13.8,
          "species": "scandens",
          "year": 1987
         },
         {
          "band": 15419,
          "beak depth (mm)": 8.6,
          "beak length (mm)": 14.9,
          "species": "scandens",
          "year": 1987
         },
         {
          "band": 15635,
          "beak depth (mm)": 8.61,
          "beak length (mm)": 13.94,
          "species": "scandens",
          "year": 1987
         },
         {
          "band": 2733,
          "beak depth (mm)": 8.67,
          "beak length (mm)": 14.81,
          "species": "scandens",
          "year": 1987
         },
         {
          "band": 15751,
          "beak depth (mm)": 8.7,
          "beak length (mm)": 12.5,
          "species": "scandens",
          "year": 1987
         },
         {
          "band": 14834,
          "beak depth (mm)": 8.7,
          "beak length (mm)": 13.75,
          "species": "scandens",
          "year": 1987
         },
         {
          "band": 4109,
          "beak depth (mm)": 8.7,
          "beak length (mm)": 14,
          "species": "scandens",
          "year": 1987
         },
         {
          "band": 15901,
          "beak depth (mm)": 8.7,
          "beak length (mm)": 14.5,
          "species": "scandens",
          "year": 1987
         },
         {
          "band": 14830,
          "beak depth (mm)": 8.7,
          "beak length (mm)": 14.7,
          "species": "scandens",
          "year": 1987
         },
         {
          "band": 15086,
          "beak depth (mm)": 8.72,
          "beak length (mm)": 14.05,
          "species": "scandens",
          "year": 1987
         },
         {
          "band": 15986,
          "beak depth (mm)": 8.72,
          "beak length (mm)": 14.17,
          "species": "scandens",
          "year": 1987
         },
         {
          "band": 4223,
          "beak depth (mm)": 8.77,
          "beak length (mm)": 15.07,
          "species": "scandens",
          "year": 1987
         },
         {
          "band": 15725,
          "beak depth (mm)": 8.8,
          "beak length (mm)": 11.5,
          "species": "scandens",
          "year": 1987
         },
         {
          "band": 13554,
          "beak depth (mm)": 8.8,
          "beak length (mm)": 13.5,
          "species": "scandens",
          "year": 1987
         },
         {
          "band": 15407,
          "beak depth (mm)": 8.8,
          "beak length (mm)": 13.87,
          "species": "scandens",
          "year": 1987
         },
         {
          "band": 3425,
          "beak depth (mm)": 8.8,
          "beak length (mm)": 14.9,
          "species": "scandens",
          "year": 1987
         },
         {
          "band": 15704,
          "beak depth (mm)": 8.81,
          "beak length (mm)": 12.34,
          "species": "scandens",
          "year": 1987
         },
         {
          "band": 15102,
          "beak depth (mm)": 8.81,
          "beak length (mm)": 14.34,
          "species": "scandens",
          "year": 1987
         },
         {
          "band": 5582,
          "beak depth (mm)": 8.87,
          "beak length (mm)": 15.07,
          "species": "scandens",
          "year": 1987
         },
         {
          "band": 15121,
          "beak depth (mm)": 8.88,
          "beak length (mm)": 14.01,
          "species": "scandens",
          "year": 1987
         },
         {
          "band": 10770,
          "beak depth (mm)": 8.89,
          "beak length (mm)": 12.86,
          "species": "scandens",
          "year": 1987
         },
         {
          "band": 14755,
          "beak depth (mm)": 8.9,
          "beak length (mm)": 13.6,
          "species": "scandens",
          "year": 1987
         },
         {
          "band": 13555,
          "beak depth (mm)": 8.9,
          "beak length (mm)": 13.8,
          "species": "scandens",
          "year": 1987
         },
         {
          "band": 15765,
          "beak depth (mm)": 8.9,
          "beak length (mm)": 13.85,
          "species": "scandens",
          "year": 1987
         },
         {
          "band": 15243,
          "beak depth (mm)": 8.9,
          "beak length (mm)": 13.9,
          "species": "scandens",
          "year": 1987
         },
         {
          "band": 8441,
          "beak depth (mm)": 8.9,
          "beak length (mm)": 14.1,
          "species": "scandens",
          "year": 1987
         },
         {
          "band": 10067,
          "beak depth (mm)": 8.9,
          "beak length (mm)": 14.1,
          "species": "scandens",
          "year": 1987
         },
         {
          "band": 15406,
          "beak depth (mm)": 8.9,
          "beak length (mm)": 14.2,
          "species": "scandens",
          "year": 1987
         },
         {
          "band": 15234,
          "beak depth (mm)": 8.9,
          "beak length (mm)": 14.3,
          "species": "scandens",
          "year": 1987
         },
         {
          "band": 15608,
          "beak depth (mm)": 8.9,
          "beak length (mm)": 14.9,
          "species": "scandens",
          "year": 1987
         },
         {
          "band": 14758,
          "beak depth (mm)": 8.91,
          "beak length (mm)": 13.84,
          "species": "scandens",
          "year": 1987
         },
         {
          "band": 14835,
          "beak depth (mm)": 8.91,
          "beak length (mm)": 14.09,
          "species": "scandens",
          "year": 1987
         },
         {
          "band": 15882,
          "beak depth (mm)": 8.92,
          "beak length (mm)": 14.05,
          "species": "scandens",
          "year": 1987
         },
         {
          "band": 14787,
          "beak depth (mm)": 8.93,
          "beak length (mm)": 14.15,
          "species": "scandens",
          "year": 1987
         },
         {
          "band": 14727,
          "beak depth (mm)": 8.93,
          "beak length (mm)": 14.25,
          "species": "scandens",
          "year": 1987
         },
         {
          "band": 5351,
          "beak depth (mm)": 8.95,
          "beak length (mm)": 13.6,
          "species": "scandens",
          "year": 1987
         },
         {
          "band": 15859,
          "beak depth (mm)": 8.95,
          "beak length (mm)": 14.57,
          "species": "scandens",
          "year": 1987
         },
         {
          "band": 15721,
          "beak depth (mm)": 8.96,
          "beak length (mm)": 11.89,
          "species": "scandens",
          "year": 1987
         },
         {
          "band": 5663,
          "beak depth (mm)": 8.97,
          "beak length (mm)": 13.8,
          "species": "scandens",
          "year": 1987
         },
         {
          "band": 2543,
          "beak depth (mm)": 8.97,
          "beak length (mm)": 14.21,
          "species": "scandens",
          "year": 1987
         },
         {
          "band": 5013,
          "beak depth (mm)": 8.99,
          "beak length (mm)": 14.76,
          "species": "scandens",
          "year": 1987
         },
         {
          "band": 10394,
          "beak depth (mm)": 9,
          "beak length (mm)": 12.07,
          "species": "scandens",
          "year": 1987
         },
         {
          "band": 17548,
          "beak depth (mm)": 9,
          "beak length (mm)": 13.9,
          "species": "scandens",
          "year": 1987
         },
         {
          "band": 14647,
          "beak depth (mm)": 9,
          "beak length (mm)": 14.1,
          "species": "scandens",
          "year": 1987
         },
         {
          "band": 13548,
          "beak depth (mm)": 9,
          "beak length (mm)": 14.3,
          "species": "scandens",
          "year": 1987
         },
         {
          "band": 5345,
          "beak depth (mm)": 9,
          "beak length (mm)": 14.95,
          "species": "scandens",
          "year": 1987
         },
         {
          "band": 15760,
          "beak depth (mm)": 9.01,
          "beak length (mm)": 14.34,
          "species": "scandens",
          "year": 1987
         },
         {
          "band": 15685,
          "beak depth (mm)": 9.02,
          "beak length (mm)": 13.84,
          "species": "scandens",
          "year": 1987
         },
         {
          "band": 14731,
          "beak depth (mm)": 9.02,
          "beak length (mm)": 14.04,
          "species": "scandens",
          "year": 1987
         },
         {
          "band": 14906,
          "beak depth (mm)": 9.02,
          "beak length (mm)": 14.14,
          "species": "scandens",
          "year": 1987
         },
         {
          "band": 15330,
          "beak depth (mm)": 9.03,
          "beak length (mm)": 12.56,
          "species": "scandens",
          "year": 1987
         },
         {
          "band": 4577,
          "beak depth (mm)": 9.04,
          "beak length (mm)": 15.14,
          "species": "scandens",
          "year": 1987
         },
         {
          "band": 4744,
          "beak depth (mm)": 9.05,
          "beak length (mm)": 14.35,
          "species": "scandens",
          "year": 1987
         },
         {
          "band": 10984,
          "beak depth (mm)": 9.05,
          "beak length (mm)": 14.85,
          "species": "scandens",
          "year": 1987
         },
         {
          "band": 14759,
          "beak depth (mm)": 9.06,
          "beak length (mm)": 14.04,
          "species": "scandens",
          "year": 1987
         },
         {
          "band": 15639,
          "beak depth (mm)": 9.1,
          "beak length (mm)": 14.2,
          "species": "scandens",
          "year": 1987
         },
         {
          "band": 15090,
          "beak depth (mm)": 9.1,
          "beak length (mm)": 14.3,
          "species": "scandens",
          "year": 1987
         },
         {
          "band": 4221,
          "beak depth (mm)": 9.1,
          "beak length (mm)": 14.5,
          "species": "scandens",
          "year": 1987
         },
         {
          "band": 15422,
          "beak depth (mm)": 9.1,
          "beak length (mm)": 14.5,
          "species": "scandens",
          "year": 1987
         },
         {
          "band": 15441,
          "beak depth (mm)": 9.1,
          "beak length (mm)": 14.6,
          "species": "scandens",
          "year": 1987
         },
         {
          "band": 15736,
          "beak depth (mm)": 9.1,
          "beak length (mm)": 15,
          "species": "scandens",
          "year": 1987
         },
         {
          "band": 4683,
          "beak depth (mm)": 9.13,
          "beak length (mm)": 13.6,
          "species": "scandens",
          "year": 1987
         },
         {
          "band": 14768,
          "beak depth (mm)": 9.13,
          "beak length (mm)": 14.65,
          "species": "scandens",
          "year": 1987
         },
         {
          "band": 5375,
          "beak depth (mm)": 9.14,
          "beak length (mm)": 14.03,
          "species": "scandens",
          "year": 1987
         },
         {
          "band": 14843,
          "beak depth (mm)": 9.18,
          "beak length (mm)": 14.16,
          "species": "scandens",
          "year": 1987
         },
         {
          "band": 2554,
          "beak depth (mm)": 9.2,
          "beak length (mm)": 13.83,
          "species": "scandens",
          "year": 1987
         },
         {
          "band": 14995,
          "beak depth (mm)": 9.2,
          "beak length (mm)": 14.2,
          "species": "scandens",
          "year": 1987
         },
         {
          "band": 15638,
          "beak depth (mm)": 9.2,
          "beak length (mm)": 14.35,
          "species": "scandens",
          "year": 1987
         },
         {
          "band": 15837,
          "beak depth (mm)": 9.2,
          "beak length (mm)": 14.45,
          "species": "scandens",
          "year": 1987
         },
         {
          "band": 10002,
          "beak depth (mm)": 9.21,
          "beak length (mm)": 14.64,
          "species": "scandens",
          "year": 1987
         },
         {
          "band": 14584,
          "beak depth (mm)": 9.21,
          "beak length (mm)": 15.04,
          "species": "scandens",
          "year": 1987
         },
         {
          "band": 14730,
          "beak depth (mm)": 9.22,
          "beak length (mm)": 13.9,
          "species": "scandens",
          "year": 1987
         },
         {
          "band": 3458,
          "beak depth (mm)": 9.24,
          "beak length (mm)": 14.34,
          "species": "scandens",
          "year": 1987
         },
         {
          "band": 5911,
          "beak depth (mm)": 9.24,
          "beak length (mm)": 14.53,
          "species": "scandens",
          "year": 1987
         },
         {
          "band": 2760,
          "beak depth (mm)": 9.25,
          "beak length (mm)": 14.2,
          "species": "scandens",
          "year": 1987
         },
         {
          "band": 15812,
          "beak depth (mm)": 9.25,
          "beak length (mm)": 14.85,
          "species": "scandens",
          "year": 1987
         },
         {
          "band": 5367,
          "beak depth (mm)": 9.25,
          "beak length (mm)": 15.1,
          "species": "scandens",
          "year": 1987
         },
         {
          "band": 10174,
          "beak depth (mm)": 9.25,
          "beak length (mm)": 15.2,
          "species": "scandens",
          "year": 1987
         },
         {
          "band": 1645,
          "beak depth (mm)": 9.26,
          "beak length (mm)": 13.5,
          "species": "scandens",
          "year": 1987
         },
         {
          "band": 4090,
          "beak depth (mm)": 9.26,
          "beak length (mm)": 14.95,
          "species": "scandens",
          "year": 1987
         },
         {
          "band": 5576,
          "beak depth (mm)": 9.28,
          "beak length (mm)": 13.83,
          "species": "scandens",
          "year": 1987
         },
         {
          "band": 14975,
          "beak depth (mm)": 9.28,
          "beak length (mm)": 13.95,
          "species": "scandens",
          "year": 1987
         },
         {
          "band": 2877,
          "beak depth (mm)": 9.28,
          "beak length (mm)": 15.09,
          "species": "scandens",
          "year": 1987
         },
         {
          "band": 10206,
          "beak depth (mm)": 9.3,
          "beak length (mm)": 13.43,
          "species": "scandens",
          "year": 1987
         },
         {
          "band": 4778,
          "beak depth (mm)": 9.3,
          "beak length (mm)": 13.7,
          "species": "scandens",
          "year": 1987
         },
         {
          "band": 5322,
          "beak depth (mm)": 9.3,
          "beak length (mm)": 14,
          "species": "scandens",
          "year": 1987
         },
         {
          "band": 10207,
          "beak depth (mm)": 9.3,
          "beak length (mm)": 14.15,
          "species": "scandens",
          "year": 1987
         },
         {
          "band": 10740,
          "beak depth (mm)": 9.3,
          "beak length (mm)": 14.75,
          "species": "scandens",
          "year": 1987
         },
         {
          "band": 8450,
          "beak depth (mm)": 9.3,
          "beak length (mm)": 14.9,
          "species": "scandens",
          "year": 1987
         },
         {
          "band": 10517,
          "beak depth (mm)": 9.3,
          "beak length (mm)": 15,
          "species": "scandens",
          "year": 1987
         },
         {
          "band": 2758,
          "beak depth (mm)": 9.32,
          "beak length (mm)": 13.56,
          "species": "scandens",
          "year": 1987
         },
         {
          "band": 14729,
          "beak depth (mm)": 9.33,
          "beak length (mm)": 14.26,
          "species": "scandens",
          "year": 1987
         },
         {
          "band": 10743,
          "beak depth (mm)": 9.34,
          "beak length (mm)": 13.83,
          "species": "scandens",
          "year": 1987
         },
         {
          "band": 13527,
          "beak depth (mm)": 9.34,
          "beak length (mm)": 14.53,
          "species": "scandens",
          "year": 1987
         },
         {
          "band": 8444,
          "beak depth (mm)": 9.34,
          "beak length (mm)": 14.84,
          "species": "scandens",
          "year": 1987
         },
         {
          "band": 15738,
          "beak depth (mm)": 9.35,
          "beak length (mm)": 15,
          "species": "scandens",
          "year": 1987
         },
         {
          "band": 2445,
          "beak depth (mm)": 9.37,
          "beak length (mm)": 13.76,
          "species": "scandens",
          "year": 1987
         },
         {
          "band": 5931,
          "beak depth (mm)": 9.37,
          "beak length (mm)": 13.9,
          "species": "scandens",
          "year": 1987
         },
         {
          "band": 14728,
          "beak depth (mm)": 9.37,
          "beak length (mm)": 14.29,
          "species": "scandens",
          "year": 1987
         },
         {
          "band": 15615,
          "beak depth (mm)": 9.37,
          "beak length (mm)": 14.63,
          "species": "scandens",
          "year": 1987
         },
         {
          "band": 14646,
          "beak depth (mm)": 9.38,
          "beak length (mm)": 14.3,
          "species": "scandens",
          "year": 1987
         },
         {
          "band": 13526,
          "beak depth (mm)": 9.4,
          "beak length (mm)": 13.6,
          "species": "scandens",
          "year": 1987
         },
         {
          "band": 15343,
          "beak depth (mm)": 9.4,
          "beak length (mm)": 14.4,
          "species": "scandens",
          "year": 1987
         },
         {
          "band": 10105,
          "beak depth (mm)": 9.4,
          "beak length (mm)": 14.9,
          "species": "scandens",
          "year": 1987
         },
         {
          "band": 14645,
          "beak depth (mm)": 9.4,
          "beak length (mm)": 14.9,
          "species": "scandens",
          "year": 1987
         },
         {
          "band": 2433,
          "beak depth (mm)": 9.42,
          "beak length (mm)": 14.34,
          "species": "scandens",
          "year": 1987
         },
         {
          "band": 10268,
          "beak depth (mm)": 9.43,
          "beak length (mm)": 14.53,
          "species": "scandens",
          "year": 1987
         },
         {
          "band": 10245,
          "beak depth (mm)": 9.45,
          "beak length (mm)": 14.65,
          "species": "scandens",
          "year": 1987
         },
         {
          "band": 4706,
          "beak depth (mm)": 9.5,
          "beak length (mm)": 14.8,
          "species": "scandens",
          "year": 1987
         },
         {
          "band": 14918,
          "beak depth (mm)": 9.5,
          "beak length (mm)": 16,
          "species": "scandens",
          "year": 1987
         },
         {
          "band": 15694,
          "beak depth (mm)": 9.51,
          "beak length (mm)": 13.14,
          "species": "scandens",
          "year": 1987
         },
         {
          "band": 15421,
          "beak depth (mm)": 9.51,
          "beak length (mm)": 14.44,
          "species": "scandens",
          "year": 1987
         },
         {
          "band": 14208,
          "beak depth (mm)": 9.52,
          "beak length (mm)": 12.73,
          "species": "scandens",
          "year": 1987
         },
         {
          "band": 1396,
          "beak depth (mm)": 9.54,
          "beak length (mm)": 15.04,
          "species": "scandens",
          "year": 1987
         },
         {
          "band": 1444,
          "beak depth (mm)": 9.55,
          "beak length (mm)": 14.85,
          "species": "scandens",
          "year": 1987
         },
         {
          "band": 4051,
          "beak depth (mm)": 9.6,
          "beak length (mm)": 14.2,
          "species": "scandens",
          "year": 1987
         },
         {
          "band": 10061,
          "beak depth (mm)": 9.6,
          "beak length (mm)": 15.2,
          "species": "scandens",
          "year": 1987
         },
         {
          "band": 4701,
          "beak depth (mm)": 9.6,
          "beak length (mm)": 16,
          "species": "scandens",
          "year": 1987
         },
         {
          "band": 13257,
          "beak depth (mm)": 9.62,
          "beak length (mm)": 14.47,
          "species": "scandens",
          "year": 1987
         },
         {
          "band": 2949,
          "beak depth (mm)": 9.64,
          "beak length (mm)": 14.54,
          "species": "scandens",
          "year": 1987
         },
         {
          "band": 14946,
          "beak depth (mm)": 9.65,
          "beak length (mm)": 14.9,
          "species": "scandens",
          "year": 1987
         },
         {
          "band": 5656,
          "beak depth (mm)": 9.7,
          "beak length (mm)": 14.9,
          "species": "scandens",
          "year": 1987
         },
         {
          "band": 5608,
          "beak depth (mm)": 9.7,
          "beak length (mm)": 15.8,
          "species": "scandens",
          "year": 1987
         },
         {
          "band": 15352,
          "beak depth (mm)": 9.73,
          "beak length (mm)": 13.46,
          "species": "scandens",
          "year": 1987
         },
         {
          "band": 15817,
          "beak depth (mm)": 9.73,
          "beak length (mm)": 14.77,
          "species": "scandens",
          "year": 1987
         },
         {
          "band": 4119,
          "beak depth (mm)": 9.74,
          "beak length (mm)": 14.44,
          "species": "scandens",
          "year": 1987
         },
         {
          "band": 10223,
          "beak depth (mm)": 9.8,
          "beak length (mm)": 15.2,
          "species": "scandens",
          "year": 1987
         },
         {
          "band": 2969,
          "beak depth (mm)": 9.8,
          "beak length (mm)": 16,
          "species": "scandens",
          "year": 1987
         },
         {
          "band": 14648,
          "beak depth (mm)": 9.82,
          "beak length (mm)": 14.4,
          "species": "scandens",
          "year": 1987
         },
         {
          "band": 15658,
          "beak depth (mm)": 9.85,
          "beak length (mm)": 14.45,
          "species": "scandens",
          "year": 1987
         },
         {
          "band": 13256,
          "beak depth (mm)": 9.85,
          "beak length (mm)": 15.35,
          "species": "scandens",
          "year": 1987
         },
         {
          "band": 8425,
          "beak depth (mm)": 9.9,
          "beak length (mm)": 14.2,
          "species": "scandens",
          "year": 1987
         },
         {
          "band": 14524,
          "beak depth (mm)": 9.9,
          "beak length (mm)": 15.3,
          "species": "scandens",
          "year": 1987
         },
         {
          "band": 10075,
          "beak depth (mm)": 9.94,
          "beak length (mm)": 14.27,
          "species": "scandens",
          "year": 1987
         },
         {
          "band": 4137,
          "beak depth (mm)": 10,
          "beak length (mm)": 15.8,
          "species": "scandens",
          "year": 1987
         },
         {
          "band": 14847,
          "beak depth (mm)": 10.1,
          "beak length (mm)": 15.3,
          "species": "scandens",
          "year": 1987
         },
         {
          "band": 15886,
          "beak depth (mm)": 10.11,
          "beak length (mm)": 11.24,
          "species": "scandens",
          "year": 1987
         },
         {
          "band": 14877,
          "beak depth (mm)": 10.27,
          "beak length (mm)": 15.2,
          "species": "scandens",
          "year": 1987
         },
         {
          "band": 8036,
          "beak depth (mm)": 10.34,
          "beak length (mm)": 15.44,
          "species": "scandens",
          "year": 1987
         },
         {
          "band": 14579,
          "beak depth (mm)": 11.33,
          "beak length (mm)": 14.96,
          "species": "scandens",
          "year": 1987
         }
        ]
       },
       "encoding": {
        "x": {
         "field": "beak length (mm)",
         "scale": {
          "zero": false
         },
         "type": "quantitative"
        },
        "y": {
         "field": "beak depth (mm)",
         "scale": {
          "zero": false
         },
         "type": "quantitative"
        }
       },
       "mark": "point"
      },
      "image/png": "[encoded data removed]",
      "text/plain": [
       "<VegaLite 2 object>\n",
       "\n",
       "If you see this message, it means the renderer has not been properly enabled\n",
       "for the frontend that you are using. For more information, see\n",
       "https://altair-viz.github.io/user_guide/troubleshooting.html\n"
      ]
     },
     "execution_count": 52,
     "metadata": {},
     "output_type": "execute_result"
    }
   ],
   "source": [
    "dots"
   ]
  },
  {
   "cell_type": "code",
   "execution_count": 61,
   "metadata": {},
   "outputs": [],
   "source": [
    "beak_length = df['beak length (mm)'].values \n",
    "beak_depth = df['beak depth (mm)'].values\n",
    "slope, intercept = np.polyfit(beak_length, beak_depth, deg=1)\n",
    "x = np.array([10.5, 16.5])\n",
    "y = slope * x + intercept\n",
    "df_line = pd.DataFrame({'x':x, 'y':y})"
   ]
  },
  {
   "cell_type": "code",
   "execution_count": 62,
   "metadata": {},
   "outputs": [],
   "source": [
    "reg_line = alt.Chart(df_line\n",
    "                    ).mark_line(\n",
    "                        size=3, \n",
    "                        color='orange'\n",
    "                    ).encode(\n",
    "                        x=alt.X('x:Q', \n",
    "                               scale=alt.Scale(zero=False)), \n",
    "                        y=alt.Y('y:Q', \n",
    "                               scale=alt.Scale(zero=False))\n",
    "\n",
    ")"
   ]
  },
  {
   "cell_type": "code",
   "execution_count": 63,
   "metadata": {},
   "outputs": [
    {
     "data": {
      "application/vnd.vegalite.v2+json": {
       "$schema": "https://vega.github.io/schema/vega-lite/v2.4.3.json",
       "config": {
        "view": {
         "height": 300,
         "width": 400
        }
       },
       "layer": [
        {
         "data": {
          "values": [
           {
            "x": 10.5,
            "y": 8.170570994251381
           },
           {
            "x": 16.5,
            "y": 9.744124304550807
           }
          ]
         },
         "encoding": {
          "x": {
           "field": "x",
           "scale": {
            "zero": false
           },
           "type": "quantitative"
          },
          "y": {
           "field": "y",
           "scale": {
            "zero": false
           },
           "type": "quantitative"
          }
         },
         "mark": {
          "color": "orange",
          "size": 3,
          "type": "line"
         }
        },
        {
         "data": {
          "values": [
           {
            "band": 15718,
            "beak depth (mm)": 7.77,
            "beak length (mm)": 10.75,
            "species": "scandens",
            "year": 1987
           },
           {
            "band": 5594,
            "beak depth (mm)": 7.94,
            "beak length (mm)": 13.73,
            "species": "scandens",
            "year": 1987
           },
           {
            "band": 15235,
            "beak depth (mm)": 7.96,
            "beak length (mm)": 14.04,
            "species": "scandens",
            "year": 1987
           },
           {
            "band": 15252,
            "beak depth (mm)": 8,
            "beak length (mm)": 12.5,
            "species": "scandens",
            "year": 1987
           },
           {
            "band": 15847,
            "beak depth (mm)": 8.01,
            "beak length (mm)": 12.64,
            "species": "scandens",
            "year": 1987
           },
           {
            "band": 15139,
            "beak depth (mm)": 8.23,
            "beak length (mm)": 12.66,
            "species": "scandens",
            "year": 1987
           },
           {
            "band": 15237,
            "beak depth (mm)": 8.3,
            "beak length (mm)": 13,
            "species": "scandens",
            "year": 1987
           },
           {
            "band": 4045,
            "beak depth (mm)": 8.36,
            "beak length (mm)": 13.15,
            "species": "scandens",
            "year": 1987
           },
           {
            "band": 8443,
            "beak depth (mm)": 8.37,
            "beak length (mm)": 13.96,
            "species": "scandens",
            "year": 1987
           },
           {
            "band": 15798,
            "beak depth (mm)": 8.4,
            "beak length (mm)": 13.15,
            "species": "scandens",
            "year": 1987
           },
           {
            "band": 14786,
            "beak depth (mm)": 8.4,
            "beak length (mm)": 13.7,
            "species": "scandens",
            "year": 1987
           },
           {
            "band": 364,
            "beak depth (mm)": 8.4,
            "beak length (mm)": 14,
            "species": "scandens",
            "year": 1987
           },
           {
            "band": 10001,
            "beak depth (mm)": 8.41,
            "beak length (mm)": 13.43,
            "species": "scandens",
            "year": 1987
           },
           {
            "band": 15119,
            "beak depth (mm)": 8.5,
            "beak length (mm)": 14,
            "species": "scandens",
            "year": 1987
           },
           {
            "band": 15676,
            "beak depth (mm)": 8.5,
            "beak length (mm)": 14.9,
            "species": "scandens",
            "year": 1987
           },
           {
            "band": 15476,
            "beak depth (mm)": 8.6,
            "beak length (mm)": 13.6,
            "species": "scandens",
            "year": 1987
           },
           {
            "band": 14576,
            "beak depth (mm)": 8.6,
            "beak length (mm)": 13.8,
            "species": "scandens",
            "year": 1987
           },
           {
            "band": 15419,
            "beak depth (mm)": 8.6,
            "beak length (mm)": 14.9,
            "species": "scandens",
            "year": 1987
           },
           {
            "band": 15635,
            "beak depth (mm)": 8.61,
            "beak length (mm)": 13.94,
            "species": "scandens",
            "year": 1987
           },
           {
            "band": 2733,
            "beak depth (mm)": 8.67,
            "beak length (mm)": 14.81,
            "species": "scandens",
            "year": 1987
           },
           {
            "band": 15751,
            "beak depth (mm)": 8.7,
            "beak length (mm)": 12.5,
            "species": "scandens",
            "year": 1987
           },
           {
            "band": 14834,
            "beak depth (mm)": 8.7,
            "beak length (mm)": 13.75,
            "species": "scandens",
            "year": 1987
           },
           {
            "band": 4109,
            "beak depth (mm)": 8.7,
            "beak length (mm)": 14,
            "species": "scandens",
            "year": 1987
           },
           {
            "band": 15901,
            "beak depth (mm)": 8.7,
            "beak length (mm)": 14.5,
            "species": "scandens",
            "year": 1987
           },
           {
            "band": 14830,
            "beak depth (mm)": 8.7,
            "beak length (mm)": 14.7,
            "species": "scandens",
            "year": 1987
           },
           {
            "band": 15086,
            "beak depth (mm)": 8.72,
            "beak length (mm)": 14.05,
            "species": "scandens",
            "year": 1987
           },
           {
            "band": 15986,
            "beak depth (mm)": 8.72,
            "beak length (mm)": 14.17,
            "species": "scandens",
            "year": 1987
           },
           {
            "band": 4223,
            "beak depth (mm)": 8.77,
            "beak length (mm)": 15.07,
            "species": "scandens",
            "year": 1987
           },
           {
            "band": 15725,
            "beak depth (mm)": 8.8,
            "beak length (mm)": 11.5,
            "species": "scandens",
            "year": 1987
           },
           {
            "band": 13554,
            "beak depth (mm)": 8.8,
            "beak length (mm)": 13.5,
            "species": "scandens",
            "year": 1987
           },
           {
            "band": 15407,
            "beak depth (mm)": 8.8,
            "beak length (mm)": 13.87,
            "species": "scandens",
            "year": 1987
           },
           {
            "band": 3425,
            "beak depth (mm)": 8.8,
            "beak length (mm)": 14.9,
            "species": "scandens",
            "year": 1987
           },
           {
            "band": 15704,
            "beak depth (mm)": 8.81,
            "beak length (mm)": 12.34,
            "species": "scandens",
            "year": 1987
           },
           {
            "band": 15102,
            "beak depth (mm)": 8.81,
            "beak length (mm)": 14.34,
            "species": "scandens",
            "year": 1987
           },
           {
            "band": 5582,
            "beak depth (mm)": 8.87,
            "beak length (mm)": 15.07,
            "species": "scandens",
            "year": 1987
           },
           {
            "band": 15121,
            "beak depth (mm)": 8.88,
            "beak length (mm)": 14.01,
            "species": "scandens",
            "year": 1987
           },
           {
            "band": 10770,
            "beak depth (mm)": 8.89,
            "beak length (mm)": 12.86,
            "species": "scandens",
            "year": 1987
           },
           {
            "band": 14755,
            "beak depth (mm)": 8.9,
            "beak length (mm)": 13.6,
            "species": "scandens",
            "year": 1987
           },
           {
            "band": 13555,
            "beak depth (mm)": 8.9,
            "beak length (mm)": 13.8,
            "species": "scandens",
            "year": 1987
           },
           {
            "band": 15765,
            "beak depth (mm)": 8.9,
            "beak length (mm)": 13.85,
            "species": "scandens",
            "year": 1987
           },
           {
            "band": 15243,
            "beak depth (mm)": 8.9,
            "beak length (mm)": 13.9,
            "species": "scandens",
            "year": 1987
           },
           {
            "band": 8441,
            "beak depth (mm)": 8.9,
            "beak length (mm)": 14.1,
            "species": "scandens",
            "year": 1987
           },
           {
            "band": 10067,
            "beak depth (mm)": 8.9,
            "beak length (mm)": 14.1,
            "species": "scandens",
            "year": 1987
           },
           {
            "band": 15406,
            "beak depth (mm)": 8.9,
            "beak length (mm)": 14.2,
            "species": "scandens",
            "year": 1987
           },
           {
            "band": 15234,
            "beak depth (mm)": 8.9,
            "beak length (mm)": 14.3,
            "species": "scandens",
            "year": 1987
           },
           {
            "band": 15608,
            "beak depth (mm)": 8.9,
            "beak length (mm)": 14.9,
            "species": "scandens",
            "year": 1987
           },
           {
            "band": 14758,
            "beak depth (mm)": 8.91,
            "beak length (mm)": 13.84,
            "species": "scandens",
            "year": 1987
           },
           {
            "band": 14835,
            "beak depth (mm)": 8.91,
            "beak length (mm)": 14.09,
            "species": "scandens",
            "year": 1987
           },
           {
            "band": 15882,
            "beak depth (mm)": 8.92,
            "beak length (mm)": 14.05,
            "species": "scandens",
            "year": 1987
           },
           {
            "band": 14787,
            "beak depth (mm)": 8.93,
            "beak length (mm)": 14.15,
            "species": "scandens",
            "year": 1987
           },
           {
            "band": 14727,
            "beak depth (mm)": 8.93,
            "beak length (mm)": 14.25,
            "species": "scandens",
            "year": 1987
           },
           {
            "band": 5351,
            "beak depth (mm)": 8.95,
            "beak length (mm)": 13.6,
            "species": "scandens",
            "year": 1987
           },
           {
            "band": 15859,
            "beak depth (mm)": 8.95,
            "beak length (mm)": 14.57,
            "species": "scandens",
            "year": 1987
           },
           {
            "band": 15721,
            "beak depth (mm)": 8.96,
            "beak length (mm)": 11.89,
            "species": "scandens",
            "year": 1987
           },
           {
            "band": 5663,
            "beak depth (mm)": 8.97,
            "beak length (mm)": 13.8,
            "species": "scandens",
            "year": 1987
           },
           {
            "band": 2543,
            "beak depth (mm)": 8.97,
            "beak length (mm)": 14.21,
            "species": "scandens",
            "year": 1987
           },
           {
            "band": 5013,
            "beak depth (mm)": 8.99,
            "beak length (mm)": 14.76,
            "species": "scandens",
            "year": 1987
           },
           {
            "band": 10394,
            "beak depth (mm)": 9,
            "beak length (mm)": 12.07,
            "species": "scandens",
            "year": 1987
           },
           {
            "band": 17548,
            "beak depth (mm)": 9,
            "beak length (mm)": 13.9,
            "species": "scandens",
            "year": 1987
           },
           {
            "band": 14647,
            "beak depth (mm)": 9,
            "beak length (mm)": 14.1,
            "species": "scandens",
            "year": 1987
           },
           {
            "band": 13548,
            "beak depth (mm)": 9,
            "beak length (mm)": 14.3,
            "species": "scandens",
            "year": 1987
           },
           {
            "band": 5345,
            "beak depth (mm)": 9,
            "beak length (mm)": 14.95,
            "species": "scandens",
            "year": 1987
           },
           {
            "band": 15760,
            "beak depth (mm)": 9.01,
            "beak length (mm)": 14.34,
            "species": "scandens",
            "year": 1987
           },
           {
            "band": 15685,
            "beak depth (mm)": 9.02,
            "beak length (mm)": 13.84,
            "species": "scandens",
            "year": 1987
           },
           {
            "band": 14731,
            "beak depth (mm)": 9.02,
            "beak length (mm)": 14.04,
            "species": "scandens",
            "year": 1987
           },
           {
            "band": 14906,
            "beak depth (mm)": 9.02,
            "beak length (mm)": 14.14,
            "species": "scandens",
            "year": 1987
           },
           {
            "band": 15330,
            "beak depth (mm)": 9.03,
            "beak length (mm)": 12.56,
            "species": "scandens",
            "year": 1987
           },
           {
            "band": 4577,
            "beak depth (mm)": 9.04,
            "beak length (mm)": 15.14,
            "species": "scandens",
            "year": 1987
           },
           {
            "band": 4744,
            "beak depth (mm)": 9.05,
            "beak length (mm)": 14.35,
            "species": "scandens",
            "year": 1987
           },
           {
            "band": 10984,
            "beak depth (mm)": 9.05,
            "beak length (mm)": 14.85,
            "species": "scandens",
            "year": 1987
           },
           {
            "band": 14759,
            "beak depth (mm)": 9.06,
            "beak length (mm)": 14.04,
            "species": "scandens",
            "year": 1987
           },
           {
            "band": 15639,
            "beak depth (mm)": 9.1,
            "beak length (mm)": 14.2,
            "species": "scandens",
            "year": 1987
           },
           {
            "band": 15090,
            "beak depth (mm)": 9.1,
            "beak length (mm)": 14.3,
            "species": "scandens",
            "year": 1987
           },
           {
            "band": 4221,
            "beak depth (mm)": 9.1,
            "beak length (mm)": 14.5,
            "species": "scandens",
            "year": 1987
           },
           {
            "band": 15422,
            "beak depth (mm)": 9.1,
            "beak length (mm)": 14.5,
            "species": "scandens",
            "year": 1987
           },
           {
            "band": 15441,
            "beak depth (mm)": 9.1,
            "beak length (mm)": 14.6,
            "species": "scandens",
            "year": 1987
           },
           {
            "band": 15736,
            "beak depth (mm)": 9.1,
            "beak length (mm)": 15,
            "species": "scandens",
            "year": 1987
           },
           {
            "band": 4683,
            "beak depth (mm)": 9.13,
            "beak length (mm)": 13.6,
            "species": "scandens",
            "year": 1987
           },
           {
            "band": 14768,
            "beak depth (mm)": 9.13,
            "beak length (mm)": 14.65,
            "species": "scandens",
            "year": 1987
           },
           {
            "band": 5375,
            "beak depth (mm)": 9.14,
            "beak length (mm)": 14.03,
            "species": "scandens",
            "year": 1987
           },
           {
            "band": 14843,
            "beak depth (mm)": 9.18,
            "beak length (mm)": 14.16,
            "species": "scandens",
            "year": 1987
           },
           {
            "band": 2554,
            "beak depth (mm)": 9.2,
            "beak length (mm)": 13.83,
            "species": "scandens",
            "year": 1987
           },
           {
            "band": 14995,
            "beak depth (mm)": 9.2,
            "beak length (mm)": 14.2,
            "species": "scandens",
            "year": 1987
           },
           {
            "band": 15638,
            "beak depth (mm)": 9.2,
            "beak length (mm)": 14.35,
            "species": "scandens",
            "year": 1987
           },
           {
            "band": 15837,
            "beak depth (mm)": 9.2,
            "beak length (mm)": 14.45,
            "species": "scandens",
            "year": 1987
           },
           {
            "band": 10002,
            "beak depth (mm)": 9.21,
            "beak length (mm)": 14.64,
            "species": "scandens",
            "year": 1987
           },
           {
            "band": 14584,
            "beak depth (mm)": 9.21,
            "beak length (mm)": 15.04,
            "species": "scandens",
            "year": 1987
           },
           {
            "band": 14730,
            "beak depth (mm)": 9.22,
            "beak length (mm)": 13.9,
            "species": "scandens",
            "year": 1987
           },
           {
            "band": 3458,
            "beak depth (mm)": 9.24,
            "beak length (mm)": 14.34,
            "species": "scandens",
            "year": 1987
           },
           {
            "band": 5911,
            "beak depth (mm)": 9.24,
            "beak length (mm)": 14.53,
            "species": "scandens",
            "year": 1987
           },
           {
            "band": 2760,
            "beak depth (mm)": 9.25,
            "beak length (mm)": 14.2,
            "species": "scandens",
            "year": 1987
           },
           {
            "band": 15812,
            "beak depth (mm)": 9.25,
            "beak length (mm)": 14.85,
            "species": "scandens",
            "year": 1987
           },
           {
            "band": 5367,
            "beak depth (mm)": 9.25,
            "beak length (mm)": 15.1,
            "species": "scandens",
            "year": 1987
           },
           {
            "band": 10174,
            "beak depth (mm)": 9.25,
            "beak length (mm)": 15.2,
            "species": "scandens",
            "year": 1987
           },
           {
            "band": 1645,
            "beak depth (mm)": 9.26,
            "beak length (mm)": 13.5,
            "species": "scandens",
            "year": 1987
           },
           {
            "band": 4090,
            "beak depth (mm)": 9.26,
            "beak length (mm)": 14.95,
            "species": "scandens",
            "year": 1987
           },
           {
            "band": 5576,
            "beak depth (mm)": 9.28,
            "beak length (mm)": 13.83,
            "species": "scandens",
            "year": 1987
           },
           {
            "band": 14975,
            "beak depth (mm)": 9.28,
            "beak length (mm)": 13.95,
            "species": "scandens",
            "year": 1987
           },
           {
            "band": 2877,
            "beak depth (mm)": 9.28,
            "beak length (mm)": 15.09,
            "species": "scandens",
            "year": 1987
           },
           {
            "band": 10206,
            "beak depth (mm)": 9.3,
            "beak length (mm)": 13.43,
            "species": "scandens",
            "year": 1987
           },
           {
            "band": 4778,
            "beak depth (mm)": 9.3,
            "beak length (mm)": 13.7,
            "species": "scandens",
            "year": 1987
           },
           {
            "band": 5322,
            "beak depth (mm)": 9.3,
            "beak length (mm)": 14,
            "species": "scandens",
            "year": 1987
           },
           {
            "band": 10207,
            "beak depth (mm)": 9.3,
            "beak length (mm)": 14.15,
            "species": "scandens",
            "year": 1987
           },
           {
            "band": 10740,
            "beak depth (mm)": 9.3,
            "beak length (mm)": 14.75,
            "species": "scandens",
            "year": 1987
           },
           {
            "band": 8450,
            "beak depth (mm)": 9.3,
            "beak length (mm)": 14.9,
            "species": "scandens",
            "year": 1987
           },
           {
            "band": 10517,
            "beak depth (mm)": 9.3,
            "beak length (mm)": 15,
            "species": "scandens",
            "year": 1987
           },
           {
            "band": 2758,
            "beak depth (mm)": 9.32,
            "beak length (mm)": 13.56,
            "species": "scandens",
            "year": 1987
           },
           {
            "band": 14729,
            "beak depth (mm)": 9.33,
            "beak length (mm)": 14.26,
            "species": "scandens",
            "year": 1987
           },
           {
            "band": 10743,
            "beak depth (mm)": 9.34,
            "beak length (mm)": 13.83,
            "species": "scandens",
            "year": 1987
           },
           {
            "band": 13527,
            "beak depth (mm)": 9.34,
            "beak length (mm)": 14.53,
            "species": "scandens",
            "year": 1987
           },
           {
            "band": 8444,
            "beak depth (mm)": 9.34,
            "beak length (mm)": 14.84,
            "species": "scandens",
            "year": 1987
           },
           {
            "band": 15738,
            "beak depth (mm)": 9.35,
            "beak length (mm)": 15,
            "species": "scandens",
            "year": 1987
           },
           {
            "band": 2445,
            "beak depth (mm)": 9.37,
            "beak length (mm)": 13.76,
            "species": "scandens",
            "year": 1987
           },
           {
            "band": 5931,
            "beak depth (mm)": 9.37,
            "beak length (mm)": 13.9,
            "species": "scandens",
            "year": 1987
           },
           {
            "band": 14728,
            "beak depth (mm)": 9.37,
            "beak length (mm)": 14.29,
            "species": "scandens",
            "year": 1987
           },
           {
            "band": 15615,
            "beak depth (mm)": 9.37,
            "beak length (mm)": 14.63,
            "species": "scandens",
            "year": 1987
           },
           {
            "band": 14646,
            "beak depth (mm)": 9.38,
            "beak length (mm)": 14.3,
            "species": "scandens",
            "year": 1987
           },
           {
            "band": 13526,
            "beak depth (mm)": 9.4,
            "beak length (mm)": 13.6,
            "species": "scandens",
            "year": 1987
           },
           {
            "band": 15343,
            "beak depth (mm)": 9.4,
            "beak length (mm)": 14.4,
            "species": "scandens",
            "year": 1987
           },
           {
            "band": 10105,
            "beak depth (mm)": 9.4,
            "beak length (mm)": 14.9,
            "species": "scandens",
            "year": 1987
           },
           {
            "band": 14645,
            "beak depth (mm)": 9.4,
            "beak length (mm)": 14.9,
            "species": "scandens",
            "year": 1987
           },
           {
            "band": 2433,
            "beak depth (mm)": 9.42,
            "beak length (mm)": 14.34,
            "species": "scandens",
            "year": 1987
           },
           {
            "band": 10268,
            "beak depth (mm)": 9.43,
            "beak length (mm)": 14.53,
            "species": "scandens",
            "year": 1987
           },
           {
            "band": 10245,
            "beak depth (mm)": 9.45,
            "beak length (mm)": 14.65,
            "species": "scandens",
            "year": 1987
           },
           {
            "band": 4706,
            "beak depth (mm)": 9.5,
            "beak length (mm)": 14.8,
            "species": "scandens",
            "year": 1987
           },
           {
            "band": 14918,
            "beak depth (mm)": 9.5,
            "beak length (mm)": 16,
            "species": "scandens",
            "year": 1987
           },
           {
            "band": 15694,
            "beak depth (mm)": 9.51,
            "beak length (mm)": 13.14,
            "species": "scandens",
            "year": 1987
           },
           {
            "band": 15421,
            "beak depth (mm)": 9.51,
            "beak length (mm)": 14.44,
            "species": "scandens",
            "year": 1987
           },
           {
            "band": 14208,
            "beak depth (mm)": 9.52,
            "beak length (mm)": 12.73,
            "species": "scandens",
            "year": 1987
           },
           {
            "band": 1396,
            "beak depth (mm)": 9.54,
            "beak length (mm)": 15.04,
            "species": "scandens",
            "year": 1987
           },
           {
            "band": 1444,
            "beak depth (mm)": 9.55,
            "beak length (mm)": 14.85,
            "species": "scandens",
            "year": 1987
           },
           {
            "band": 4051,
            "beak depth (mm)": 9.6,
            "beak length (mm)": 14.2,
            "species": "scandens",
            "year": 1987
           },
           {
            "band": 10061,
            "beak depth (mm)": 9.6,
            "beak length (mm)": 15.2,
            "species": "scandens",
            "year": 1987
           },
           {
            "band": 4701,
            "beak depth (mm)": 9.6,
            "beak length (mm)": 16,
            "species": "scandens",
            "year": 1987
           },
           {
            "band": 13257,
            "beak depth (mm)": 9.62,
            "beak length (mm)": 14.47,
            "species": "scandens",
            "year": 1987
           },
           {
            "band": 2949,
            "beak depth (mm)": 9.64,
            "beak length (mm)": 14.54,
            "species": "scandens",
            "year": 1987
           },
           {
            "band": 14946,
            "beak depth (mm)": 9.65,
            "beak length (mm)": 14.9,
            "species": "scandens",
            "year": 1987
           },
           {
            "band": 5656,
            "beak depth (mm)": 9.7,
            "beak length (mm)": 14.9,
            "species": "scandens",
            "year": 1987
           },
           {
            "band": 5608,
            "beak depth (mm)": 9.7,
            "beak length (mm)": 15.8,
            "species": "scandens",
            "year": 1987
           },
           {
            "band": 15352,
            "beak depth (mm)": 9.73,
            "beak length (mm)": 13.46,
            "species": "scandens",
            "year": 1987
           },
           {
            "band": 15817,
            "beak depth (mm)": 9.73,
            "beak length (mm)": 14.77,
            "species": "scandens",
            "year": 1987
           },
           {
            "band": 4119,
            "beak depth (mm)": 9.74,
            "beak length (mm)": 14.44,
            "species": "scandens",
            "year": 1987
           },
           {
            "band": 10223,
            "beak depth (mm)": 9.8,
            "beak length (mm)": 15.2,
            "species": "scandens",
            "year": 1987
           },
           {
            "band": 2969,
            "beak depth (mm)": 9.8,
            "beak length (mm)": 16,
            "species": "scandens",
            "year": 1987
           },
           {
            "band": 14648,
            "beak depth (mm)": 9.82,
            "beak length (mm)": 14.4,
            "species": "scandens",
            "year": 1987
           },
           {
            "band": 15658,
            "beak depth (mm)": 9.85,
            "beak length (mm)": 14.45,
            "species": "scandens",
            "year": 1987
           },
           {
            "band": 13256,
            "beak depth (mm)": 9.85,
            "beak length (mm)": 15.35,
            "species": "scandens",
            "year": 1987
           },
           {
            "band": 8425,
            "beak depth (mm)": 9.9,
            "beak length (mm)": 14.2,
            "species": "scandens",
            "year": 1987
           },
           {
            "band": 14524,
            "beak depth (mm)": 9.9,
            "beak length (mm)": 15.3,
            "species": "scandens",
            "year": 1987
           },
           {
            "band": 10075,
            "beak depth (mm)": 9.94,
            "beak length (mm)": 14.27,
            "species": "scandens",
            "year": 1987
           },
           {
            "band": 4137,
            "beak depth (mm)": 10,
            "beak length (mm)": 15.8,
            "species": "scandens",
            "year": 1987
           },
           {
            "band": 14847,
            "beak depth (mm)": 10.1,
            "beak length (mm)": 15.3,
            "species": "scandens",
            "year": 1987
           },
           {
            "band": 15886,
            "beak depth (mm)": 10.11,
            "beak length (mm)": 11.24,
            "species": "scandens",
            "year": 1987
           },
           {
            "band": 14877,
            "beak depth (mm)": 10.27,
            "beak length (mm)": 15.2,
            "species": "scandens",
            "year": 1987
           },
           {
            "band": 8036,
            "beak depth (mm)": 10.34,
            "beak length (mm)": 15.44,
            "species": "scandens",
            "year": 1987
           },
           {
            "band": 14579,
            "beak depth (mm)": 11.33,
            "beak length (mm)": 14.96,
            "species": "scandens",
            "year": 1987
           }
          ]
         },
         "encoding": {
          "x": {
           "field": "beak length (mm)",
           "scale": {
            "zero": false
           },
           "type": "quantitative"
          },
          "y": {
           "field": "beak depth (mm)",
           "scale": {
            "zero": false
           },
           "type": "quantitative"
          }
         },
         "mark": "point"
        }
       ]
      },
      "image/png": "[encoded data removed]",
      "text/plain": [
       "<VegaLite 2 object>\n",
       "\n",
       "If you see this message, it means the renderer has not been properly enabled\n",
       "for the frontend that you are using. For more information, see\n",
       "https://altair-viz.github.io/user_guide/troubleshooting.html\n"
      ]
     },
     "execution_count": 63,
     "metadata": {},
     "output_type": "execute_result"
    }
   ],
   "source": [
    "reg_line + dots"
   ]
  },
  {
   "cell_type": "code",
   "execution_count": 64,
   "metadata": {},
   "outputs": [],
   "source": [
    "def draw_bs_pairs_linreg(x, y, size=1):\n",
    "    inds = np.arange(len(x))\n",
    "    \n",
    "    bs_slope_reps = np.empty(size)\n",
    "    bs_intercept_reps = np.empty(size)\n",
    "    \n",
    "    for i in range(size):\n",
    "        bs_inds = np.random.choice(inds, len(inds))\n",
    "        bs_x, bs_y = x[bs_inds], y[bs_inds]\n",
    "        bs_slope, bs_intercept = np.polyfit(bs_x, bs_y, deg=1)\n",
    "        \n",
    "        bs_slope_reps[i], bs_intercept_reps[i] = bs_slope, bs_intercept\n",
    "        \n",
    "        return bs_slope_reps, bs_intercept_reps"
   ]
  },
  {
   "cell_type": "code",
   "execution_count": 65,
   "metadata": {},
   "outputs": [],
   "source": [
    "bs_slope_reps, bs_intercept_reps = draw_bs_pairs_linreg(beak_length, beak_depth, size=10000)"
   ]
  },
  {
   "cell_type": "code",
   "execution_count": 67,
   "metadata": {},
   "outputs": [
    {
     "data": {
      "text/plain": [
       "(0.2622588850499042, array([0.00000000e+000, 4.47450698e-313]))"
      ]
     },
     "execution_count": 67,
     "metadata": {},
     "output_type": "execute_result"
    }
   ],
   "source": [
    "slope, np.percentile(bs_slope_reps, [2.5, 97.5])"
   ]
  },
  {
   "cell_type": "code",
   "execution_count": 68,
   "metadata": {},
   "outputs": [],
   "source": [
    "# x-values\n",
    "x = np.linspace(10.5, 16.5, 200)\n",
    "\n",
    "# y-values of each point\n",
    "y = np.outer(bs_slope_reps, x) + np.stack([bs_intercept_reps]*200, axis=1)\n",
    "\n",
    "# Compute the 2.5th and 97.5th percentiles\n",
    "low, high = np.percentile(y, [2.5, 97.5], axis=0)"
   ]
  },
  {
   "cell_type": "code",
   "execution_count": 69,
   "metadata": {},
   "outputs": [
    {
     "data": {
      "application/vnd.vegalite.v2+json": {
       "$schema": "https://vega.github.io/schema/vega-lite/v2.4.3.json",
       "config": {
        "view": {
         "height": 300,
         "width": 400
        }
       },
       "layer": [
        {
         "data": {
          "values": [
           {
            "high": 14,
            "low": 9.94e-321,
            "x": 10.5
           },
           {
            "high": 14,
            "low": 9.94e-321,
            "x": 10.530150753768844
           },
           {
            "high": 14,
            "low": 9.94e-321,
            "x": 10.56030150753769
           },
           {
            "high": 14,
            "low": 9.94e-321,
            "x": 10.590452261306533
           },
           {
            "high": 14,
            "low": 9.94e-321,
            "x": 10.620603015075377
           },
           {
            "high": 14,
            "low": 9.94e-321,
            "x": 10.650753768844222
           },
           {
            "high": 14,
            "low": 9.94e-321,
            "x": 10.680904522613066
           },
           {
            "high": 14,
            "low": 9.94e-321,
            "x": 10.71105527638191
           },
           {
            "high": 14,
            "low": 9.94e-321,
            "x": 10.741206030150753
           },
           {
            "high": 14,
            "low": 9.94e-321,
            "x": 10.771356783919598
           },
           {
            "high": 14,
            "low": 9.94e-321,
            "x": 10.801507537688442
           },
           {
            "high": 14,
            "low": 9.94e-321,
            "x": 10.831658291457286
           },
           {
            "high": 14,
            "low": 9.94e-321,
            "x": 10.861809045226131
           },
           {
            "high": 14,
            "low": 9.94e-321,
            "x": 10.891959798994975
           },
           {
            "high": 14,
            "low": 9.94e-321,
            "x": 10.922110552763819
           },
           {
            "high": 14,
            "low": 9.94e-321,
            "x": 10.952261306532662
           },
           {
            "high": 14,
            "low": 9.94e-321,
            "x": 10.982412060301508
           },
           {
            "high": 14,
            "low": 9.94e-321,
            "x": 11.012562814070352
           },
           {
            "high": 14,
            "low": 9.94e-321,
            "x": 11.042713567839195
           },
           {
            "high": 14,
            "low": 9.94e-321,
            "x": 11.07286432160804
           },
           {
            "high": 14,
            "low": 9.94e-321,
            "x": 11.103015075376884
           },
           {
            "high": 14,
            "low": 9.94e-321,
            "x": 11.133165829145728
           },
           {
            "high": 14,
            "low": 9.94e-321,
            "x": 11.163316582914574
           },
           {
            "high": 14,
            "low": 9.94e-321,
            "x": 11.193467336683417
           },
           {
            "high": 14,
            "low": 9.94e-321,
            "x": 11.22361809045226
           },
           {
            "high": 14,
            "low": 9.94e-321,
            "x": 11.253768844221106
           },
           {
            "high": 14,
            "low": 9.94e-321,
            "x": 11.28391959798995
           },
           {
            "high": 14,
            "low": 9.94e-321,
            "x": 11.314070351758794
           },
           {
            "high": 14,
            "low": 9.94e-321,
            "x": 11.344221105527637
           },
           {
            "high": 14,
            "low": 9.94e-321,
            "x": 11.374371859296483
           },
           {
            "high": 14,
            "low": 9.94e-321,
            "x": 11.404522613065327
           },
           {
            "high": 14,
            "low": 9.94e-321,
            "x": 11.43467336683417
           },
           {
            "high": 14,
            "low": 9.94e-321,
            "x": 11.464824120603016
           },
           {
            "high": 14,
            "low": 9.94e-321,
            "x": 11.49497487437186
           },
           {
            "high": 14,
            "low": 9.94e-321,
            "x": 11.525125628140703
           },
           {
            "high": 14,
            "low": 9.94e-321,
            "x": 11.555276381909547
           },
           {
            "high": 14,
            "low": 9.94e-321,
            "x": 11.585427135678392
           },
           {
            "high": 14,
            "low": 9.94e-321,
            "x": 11.615577889447236
           },
           {
            "high": 14,
            "low": 9.94e-321,
            "x": 11.64572864321608
           },
           {
            "high": 14,
            "low": 9.94e-321,
            "x": 11.675879396984925
           },
           {
            "high": 14,
            "low": 9.94e-321,
            "x": 11.706030150753769
           },
           {
            "high": 14,
            "low": 9.94e-321,
            "x": 11.736180904522612
           },
           {
            "high": 14,
            "low": 9.94e-321,
            "x": 11.766331658291458
           },
           {
            "high": 14,
            "low": 9.94e-321,
            "x": 11.796482412060302
           },
           {
            "high": 14,
            "low": 9.94e-321,
            "x": 11.826633165829145
           },
           {
            "high": 14,
            "low": 9.94e-321,
            "x": 11.85678391959799
           },
           {
            "high": 14,
            "low": 9.94e-321,
            "x": 11.886934673366834
           },
           {
            "high": 14,
            "low": 9.94e-321,
            "x": 11.917085427135678
           },
           {
            "high": 14,
            "low": 9.94e-321,
            "x": 11.947236180904522
           },
           {
            "high": 14,
            "low": 9.94e-321,
            "x": 11.977386934673367
           },
           {
            "high": 14,
            "low": 9.94e-321,
            "x": 12.007537688442211
           },
           {
            "high": 14,
            "low": 9.94e-321,
            "x": 12.037688442211055
           },
           {
            "high": 14,
            "low": 9.94e-321,
            "x": 12.0678391959799
           },
           {
            "high": 14,
            "low": 9.94e-321,
            "x": 12.097989949748744
           },
           {
            "high": 14,
            "low": 9.94e-321,
            "x": 12.128140703517587
           },
           {
            "high": 14,
            "low": 9.94e-321,
            "x": 12.158291457286431
           },
           {
            "high": 14,
            "low": 9.94e-321,
            "x": 12.188442211055277
           },
           {
            "high": 14,
            "low": 9.94e-321,
            "x": 12.21859296482412
           },
           {
            "high": 14,
            "low": 9.94e-321,
            "x": 12.248743718592966
           },
           {
            "high": 14,
            "low": 9.94e-321,
            "x": 12.27889447236181
           },
           {
            "high": 14,
            "low": 9.94e-321,
            "x": 12.309045226130653
           },
           {
            "high": 14,
            "low": 9.94e-321,
            "x": 12.339195979899497
           },
           {
            "high": 14,
            "low": 9.94e-321,
            "x": 12.369346733668342
           },
           {
            "high": 14,
            "low": 9.94e-321,
            "x": 12.399497487437186
           },
           {
            "high": 14,
            "low": 9.94e-321,
            "x": 12.42964824120603
           },
           {
            "high": 14,
            "low": 9.94e-321,
            "x": 12.459798994974875
           },
           {
            "high": 14,
            "low": 9.94e-321,
            "x": 12.489949748743719
           },
           {
            "high": 14,
            "low": 9.94e-321,
            "x": 12.520100502512562
           },
           {
            "high": 14,
            "low": 9.94e-321,
            "x": 12.550251256281406
           },
           {
            "high": 14,
            "low": 9.94e-321,
            "x": 12.580402010050252
           },
           {
            "high": 14,
            "low": 9.94e-321,
            "x": 12.610552763819095
           },
           {
            "high": 14,
            "low": 9.94e-321,
            "x": 12.640703517587939
           },
           {
            "high": 14,
            "low": 9.94e-321,
            "x": 12.670854271356784
           },
           {
            "high": 14,
            "low": 9.94e-321,
            "x": 12.701005025125628
           },
           {
            "high": 14,
            "low": 9.94e-321,
            "x": 12.731155778894472
           },
           {
            "high": 14,
            "low": 9.94e-321,
            "x": 12.761306532663315
           },
           {
            "high": 14,
            "low": 9.94e-321,
            "x": 12.791457286432161
           },
           {
            "high": 14,
            "low": 9.94e-321,
            "x": 12.821608040201005
           },
           {
            "high": 14,
            "low": 9.94e-321,
            "x": 12.85175879396985
           },
           {
            "high": 14,
            "low": 9.94e-321,
            "x": 12.881909547738694
           },
           {
            "high": 14,
            "low": 9.94e-321,
            "x": 12.912060301507537
           },
           {
            "high": 14,
            "low": 9.94e-321,
            "x": 12.942211055276381
           },
           {
            "high": 14,
            "low": 9.94e-321,
            "x": 12.972361809045227
           },
           {
            "high": 14,
            "low": 9.94e-321,
            "x": 13.00251256281407
           },
           {
            "high": 14,
            "low": 9.94e-321,
            "x": 13.032663316582914
           },
           {
            "high": 14,
            "low": 9.94e-321,
            "x": 13.06281407035176
           },
           {
            "high": 14,
            "low": 9.94e-321,
            "x": 13.092964824120603
           },
           {
            "high": 14,
            "low": 9.94e-321,
            "x": 13.123115577889447
           },
           {
            "high": 14,
            "low": 9.94e-321,
            "x": 13.15326633165829
           },
           {
            "high": 14,
            "low": 9.94e-321,
            "x": 13.183417085427136
           },
           {
            "high": 14,
            "low": 9.94e-321,
            "x": 13.21356783919598
           },
           {
            "high": 14,
            "low": 9.94e-321,
            "x": 13.243718592964823
           },
           {
            "high": 14,
            "low": 9.94e-321,
            "x": 13.273869346733669
           },
           {
            "high": 14,
            "low": 9.94e-321,
            "x": 13.304020100502512
           },
           {
            "high": 14,
            "low": 9.94e-321,
            "x": 13.334170854271356
           },
           {
            "high": 14,
            "low": 9.94e-321,
            "x": 13.3643216080402
           },
           {
            "high": 14,
            "low": 9.94e-321,
            "x": 13.394472361809045
           },
           {
            "high": 14,
            "low": 9.94e-321,
            "x": 13.424623115577889
           },
           {
            "high": 14,
            "low": 9.94e-321,
            "x": 13.454773869346734
           },
           {
            "high": 14,
            "low": 9.94e-321,
            "x": 13.484924623115578
           },
           {
            "high": 14,
            "low": 9.94e-321,
            "x": 13.515075376884422
           },
           {
            "high": 14,
            "low": 9.94e-321,
            "x": 13.545226130653266
           },
           {
            "high": 14,
            "low": 9.94e-321,
            "x": 13.575376884422111
           },
           {
            "high": 14,
            "low": 9.94e-321,
            "x": 13.605527638190955
           },
           {
            "high": 14,
            "low": 9.94e-321,
            "x": 13.635678391959798
           },
           {
            "high": 14,
            "low": 9.94e-321,
            "x": 13.665829145728644
           },
           {
            "high": 14,
            "low": 9.94e-321,
            "x": 13.695979899497488
           },
           {
            "high": 14,
            "low": 9.94e-321,
            "x": 13.726130653266331
           },
           {
            "high": 14,
            "low": 9.94e-321,
            "x": 13.756281407035175
           },
           {
            "high": 14,
            "low": 9.94e-321,
            "x": 13.78643216080402
           },
           {
            "high": 14,
            "low": 9.94e-321,
            "x": 13.816582914572864
           },
           {
            "high": 14,
            "low": 9.94e-321,
            "x": 13.84673366834171
           },
           {
            "high": 14,
            "low": 9.94e-321,
            "x": 13.876884422110553
           },
           {
            "high": 14,
            "low": 9.94e-321,
            "x": 13.907035175879397
           },
           {
            "high": 14,
            "low": 9.94e-321,
            "x": 13.93718592964824
           },
           {
            "high": 14,
            "low": 9.94e-321,
            "x": 13.967336683417084
           },
           {
            "high": 14,
            "low": 9.94e-321,
            "x": 13.99748743718593
           },
           {
            "high": 14,
            "low": 9.94e-321,
            "x": 14.027638190954773
           },
           {
            "high": 14,
            "low": 9.94e-321,
            "x": 14.057788944723619
           },
           {
            "high": 14,
            "low": 9.94e-321,
            "x": 14.087939698492463
           },
           {
            "high": 14,
            "low": 9.94e-321,
            "x": 14.118090452261306
           },
           {
            "high": 14,
            "low": 9.94e-321,
            "x": 14.14824120603015
           },
           {
            "high": 14,
            "low": 9.94e-321,
            "x": 14.178391959798995
           },
           {
            "high": 14,
            "low": 9.94e-321,
            "x": 14.208542713567839
           },
           {
            "high": 14,
            "low": 9.94e-321,
            "x": 14.238693467336683
           },
           {
            "high": 14,
            "low": 9.94e-321,
            "x": 14.268844221105528
           },
           {
            "high": 14,
            "low": 9.94e-321,
            "x": 14.298994974874372
           },
           {
            "high": 14,
            "low": 9.94e-321,
            "x": 14.329145728643216
           },
           {
            "high": 14,
            "low": 9.94e-321,
            "x": 14.35929648241206
           },
           {
            "high": 14,
            "low": 9.94e-321,
            "x": 14.389447236180905
           },
           {
            "high": 14,
            "low": 9.94e-321,
            "x": 14.419597989949748
           },
           {
            "high": 14,
            "low": 9.94e-321,
            "x": 14.449748743718594
           },
           {
            "high": 14,
            "low": 9.94e-321,
            "x": 14.479899497487438
           },
           {
            "high": 14,
            "low": 9.94e-321,
            "x": 14.510050251256281
           },
           {
            "high": 14,
            "low": 9.94e-321,
            "x": 14.540201005025125
           },
           {
            "high": 14,
            "low": 9.94e-321,
            "x": 14.570351758793969
           },
           {
            "high": 14,
            "low": 9.94e-321,
            "x": 14.600502512562814
           },
           {
            "high": 14,
            "low": 9.94e-321,
            "x": 14.630653266331658
           },
           {
            "high": 14,
            "low": 9.94e-321,
            "x": 14.660804020100503
           },
           {
            "high": 14,
            "low": 9.94e-321,
            "x": 14.690954773869347
           },
           {
            "high": 14,
            "low": 9.94e-321,
            "x": 14.72110552763819
           },
           {
            "high": 14,
            "low": 9.94e-321,
            "x": 14.751256281407034
           },
           {
            "high": 14,
            "low": 9.94e-321,
            "x": 14.781407035175878
           },
           {
            "high": 14,
            "low": 9.94e-321,
            "x": 14.811557788944723
           },
           {
            "high": 14,
            "low": 9.94e-321,
            "x": 14.841708542713569
           },
           {
            "high": 14,
            "low": 9.94e-321,
            "x": 14.871859296482413
           },
           {
            "high": 14,
            "low": 9.94e-321,
            "x": 14.902010050251256
           },
           {
            "high": 14,
            "low": 9.94e-321,
            "x": 14.9321608040201
           },
           {
            "high": 14,
            "low": 9.94e-321,
            "x": 14.962311557788944
           },
           {
            "high": 14,
            "low": 9.94e-321,
            "x": 14.992462311557789
           },
           {
            "high": 14,
            "low": 9.94e-321,
            "x": 15.022613065326633
           },
           {
            "high": 14,
            "low": 9.94e-321,
            "x": 15.052763819095478
           },
           {
            "high": 14,
            "low": 9.94e-321,
            "x": 15.082914572864322
           },
           {
            "high": 14,
            "low": 9.94e-321,
            "x": 15.113065326633166
           },
           {
            "high": 14,
            "low": 9.94e-321,
            "x": 15.14321608040201
           },
           {
            "high": 14,
            "low": 9.94e-321,
            "x": 15.173366834170853
           },
           {
            "high": 14,
            "low": 9.94e-321,
            "x": 15.203517587939698
           },
           {
            "high": 14,
            "low": 9.94e-321,
            "x": 15.233668341708542
           },
           {
            "high": 14,
            "low": 9.94e-321,
            "x": 15.263819095477388
           },
           {
            "high": 14,
            "low": 9.94e-321,
            "x": 15.293969849246231
           },
           {
            "high": 14,
            "low": 9.94e-321,
            "x": 15.324120603015075
           },
           {
            "high": 14,
            "low": 9.94e-321,
            "x": 15.354271356783919
           },
           {
            "high": 14,
            "low": 9.94e-321,
            "x": 15.384422110552762
           },
           {
            "high": 14,
            "low": 9.94e-321,
            "x": 15.414572864321608
           },
           {
            "high": 14,
            "low": 9.94e-321,
            "x": 15.444723618090453
           },
           {
            "high": 14,
            "low": 9.94e-321,
            "x": 15.474874371859297
           },
           {
            "high": 14,
            "low": 9.94e-321,
            "x": 15.50502512562814
           },
           {
            "high": 14,
            "low": 9.94e-321,
            "x": 15.535175879396984
           },
           {
            "high": 14,
            "low": 9.94e-321,
            "x": 15.565326633165828
           },
           {
            "high": 14,
            "low": 9.94e-321,
            "x": 15.595477386934673
           },
           {
            "high": 14,
            "low": 9.94e-321,
            "x": 15.625628140703517
           },
           {
            "high": 14,
            "low": 9.94e-321,
            "x": 15.655778894472363
           },
           {
            "high": 14,
            "low": 9.94e-321,
            "x": 15.685929648241206
           },
           {
            "high": 14,
            "low": 9.94e-321,
            "x": 15.71608040201005
           },
           {
            "high": 14,
            "low": 9.94e-321,
            "x": 15.746231155778894
           },
           {
            "high": 14,
            "low": 9.94e-321,
            "x": 15.776381909547737
           },
           {
            "high": 14,
            "low": 9.94e-321,
            "x": 15.806532663316583
           },
           {
            "high": 14,
            "low": 9.94e-321,
            "x": 15.836683417085426
           },
           {
            "high": 14,
            "low": 9.94e-321,
            "x": 15.866834170854272
           },
           {
            "high": 14,
            "low": 9.94e-321,
            "x": 15.896984924623116
           },
           {
            "high": 14,
            "low": 9.94e-321,
            "x": 15.92713567839196
           },
           {
            "high": 14,
            "low": 9.94e-321,
            "x": 15.957286432160803
           },
           {
            "high": 14,
            "low": 9.94e-321,
            "x": 15.987437185929647
           },
           {
            "high": 14,
            "low": 9.94e-321,
            "x": 16.017587939698494
           },
           {
            "high": 14,
            "low": 9.94e-321,
            "x": 16.047738693467338
           },
           {
            "high": 14,
            "low": 9.94e-321,
            "x": 16.07788944723618
           },
           {
            "high": 14,
            "low": 9.94e-321,
            "x": 16.108040201005025
           },
           {
            "high": 14,
            "low": 9.94e-321,
            "x": 16.13819095477387
           },
           {
            "high": 14,
            "low": 9.94e-321,
            "x": 16.168341708542712
           },
           {
            "high": 14,
            "low": 9.94e-321,
            "x": 16.198492462311556
           },
           {
            "high": 14,
            "low": 9.94e-321,
            "x": 16.2286432160804
           },
           {
            "high": 14,
            "low": 9.94e-321,
            "x": 16.258793969849247
           },
           {
            "high": 14,
            "low": 9.94e-321,
            "x": 16.28894472361809
           },
           {
            "high": 14,
            "low": 9.94e-321,
            "x": 16.319095477386934
           },
           {
            "high": 14,
            "low": 9.94e-321,
            "x": 16.349246231155778
           },
           {
            "high": 14,
            "low": 9.94e-321,
            "x": 16.37939698492462
           },
           {
            "high": 14,
            "low": 9.94e-321,
            "x": 16.40954773869347
           },
           {
            "high": 14,
            "low": 9.94e-321,
            "x": 16.439698492462313
           },
           {
            "high": 14,
            "low": 9.94e-321,
            "x": 16.469849246231156
           },
           {
            "high": 14,
            "low": 9.94e-321,
            "x": 16.5
           }
          ]
         },
         "encoding": {
          "x": {
           "field": "x",
           "scale": {
            "zero": false
           },
           "title": "beak length (mm)",
           "type": "quantitative"
          },
          "y": {
           "field": "low",
           "scale": {
            "zero": false
           },
           "title": "beak depth (mm)",
           "type": "quantitative"
          },
          "y2": {
           "field": "high",
           "type": "quantitative"
          }
         },
         "mark": {
          "color": "orange",
          "opacity": 0.3,
          "type": "area"
         }
        },
        {
         "data": {
          "values": [
           {
            "x": 10.5,
            "y": 8.170570994251381
           },
           {
            "x": 16.5,
            "y": 9.744124304550807
           }
          ]
         },
         "encoding": {
          "x": {
           "field": "x",
           "scale": {
            "zero": false
           },
           "type": "quantitative"
          },
          "y": {
           "field": "y",
           "scale": {
            "zero": false
           },
           "type": "quantitative"
          }
         },
         "mark": {
          "color": "orange",
          "size": 3,
          "type": "line"
         }
        },
        {
         "data": {
          "values": [
           {
            "band": 15718,
            "beak depth (mm)": 7.77,
            "beak length (mm)": 10.75,
            "species": "scandens",
            "year": 1987
           },
           {
            "band": 5594,
            "beak depth (mm)": 7.94,
            "beak length (mm)": 13.73,
            "species": "scandens",
            "year": 1987
           },
           {
            "band": 15235,
            "beak depth (mm)": 7.96,
            "beak length (mm)": 14.04,
            "species": "scandens",
            "year": 1987
           },
           {
            "band": 15252,
            "beak depth (mm)": 8,
            "beak length (mm)": 12.5,
            "species": "scandens",
            "year": 1987
           },
           {
            "band": 15847,
            "beak depth (mm)": 8.01,
            "beak length (mm)": 12.64,
            "species": "scandens",
            "year": 1987
           },
           {
            "band": 15139,
            "beak depth (mm)": 8.23,
            "beak length (mm)": 12.66,
            "species": "scandens",
            "year": 1987
           },
           {
            "band": 15237,
            "beak depth (mm)": 8.3,
            "beak length (mm)": 13,
            "species": "scandens",
            "year": 1987
           },
           {
            "band": 4045,
            "beak depth (mm)": 8.36,
            "beak length (mm)": 13.15,
            "species": "scandens",
            "year": 1987
           },
           {
            "band": 8443,
            "beak depth (mm)": 8.37,
            "beak length (mm)": 13.96,
            "species": "scandens",
            "year": 1987
           },
           {
            "band": 15798,
            "beak depth (mm)": 8.4,
            "beak length (mm)": 13.15,
            "species": "scandens",
            "year": 1987
           },
           {
            "band": 14786,
            "beak depth (mm)": 8.4,
            "beak length (mm)": 13.7,
            "species": "scandens",
            "year": 1987
           },
           {
            "band": 364,
            "beak depth (mm)": 8.4,
            "beak length (mm)": 14,
            "species": "scandens",
            "year": 1987
           },
           {
            "band": 10001,
            "beak depth (mm)": 8.41,
            "beak length (mm)": 13.43,
            "species": "scandens",
            "year": 1987
           },
           {
            "band": 15119,
            "beak depth (mm)": 8.5,
            "beak length (mm)": 14,
            "species": "scandens",
            "year": 1987
           },
           {
            "band": 15676,
            "beak depth (mm)": 8.5,
            "beak length (mm)": 14.9,
            "species": "scandens",
            "year": 1987
           },
           {
            "band": 15476,
            "beak depth (mm)": 8.6,
            "beak length (mm)": 13.6,
            "species": "scandens",
            "year": 1987
           },
           {
            "band": 14576,
            "beak depth (mm)": 8.6,
            "beak length (mm)": 13.8,
            "species": "scandens",
            "year": 1987
           },
           {
            "band": 15419,
            "beak depth (mm)": 8.6,
            "beak length (mm)": 14.9,
            "species": "scandens",
            "year": 1987
           },
           {
            "band": 15635,
            "beak depth (mm)": 8.61,
            "beak length (mm)": 13.94,
            "species": "scandens",
            "year": 1987
           },
           {
            "band": 2733,
            "beak depth (mm)": 8.67,
            "beak length (mm)": 14.81,
            "species": "scandens",
            "year": 1987
           },
           {
            "band": 15751,
            "beak depth (mm)": 8.7,
            "beak length (mm)": 12.5,
            "species": "scandens",
            "year": 1987
           },
           {
            "band": 14834,
            "beak depth (mm)": 8.7,
            "beak length (mm)": 13.75,
            "species": "scandens",
            "year": 1987
           },
           {
            "band": 4109,
            "beak depth (mm)": 8.7,
            "beak length (mm)": 14,
            "species": "scandens",
            "year": 1987
           },
           {
            "band": 15901,
            "beak depth (mm)": 8.7,
            "beak length (mm)": 14.5,
            "species": "scandens",
            "year": 1987
           },
           {
            "band": 14830,
            "beak depth (mm)": 8.7,
            "beak length (mm)": 14.7,
            "species": "scandens",
            "year": 1987
           },
           {
            "band": 15086,
            "beak depth (mm)": 8.72,
            "beak length (mm)": 14.05,
            "species": "scandens",
            "year": 1987
           },
           {
            "band": 15986,
            "beak depth (mm)": 8.72,
            "beak length (mm)": 14.17,
            "species": "scandens",
            "year": 1987
           },
           {
            "band": 4223,
            "beak depth (mm)": 8.77,
            "beak length (mm)": 15.07,
            "species": "scandens",
            "year": 1987
           },
           {
            "band": 15725,
            "beak depth (mm)": 8.8,
            "beak length (mm)": 11.5,
            "species": "scandens",
            "year": 1987
           },
           {
            "band": 13554,
            "beak depth (mm)": 8.8,
            "beak length (mm)": 13.5,
            "species": "scandens",
            "year": 1987
           },
           {
            "band": 15407,
            "beak depth (mm)": 8.8,
            "beak length (mm)": 13.87,
            "species": "scandens",
            "year": 1987
           },
           {
            "band": 3425,
            "beak depth (mm)": 8.8,
            "beak length (mm)": 14.9,
            "species": "scandens",
            "year": 1987
           },
           {
            "band": 15704,
            "beak depth (mm)": 8.81,
            "beak length (mm)": 12.34,
            "species": "scandens",
            "year": 1987
           },
           {
            "band": 15102,
            "beak depth (mm)": 8.81,
            "beak length (mm)": 14.34,
            "species": "scandens",
            "year": 1987
           },
           {
            "band": 5582,
            "beak depth (mm)": 8.87,
            "beak length (mm)": 15.07,
            "species": "scandens",
            "year": 1987
           },
           {
            "band": 15121,
            "beak depth (mm)": 8.88,
            "beak length (mm)": 14.01,
            "species": "scandens",
            "year": 1987
           },
           {
            "band": 10770,
            "beak depth (mm)": 8.89,
            "beak length (mm)": 12.86,
            "species": "scandens",
            "year": 1987
           },
           {
            "band": 14755,
            "beak depth (mm)": 8.9,
            "beak length (mm)": 13.6,
            "species": "scandens",
            "year": 1987
           },
           {
            "band": 13555,
            "beak depth (mm)": 8.9,
            "beak length (mm)": 13.8,
            "species": "scandens",
            "year": 1987
           },
           {
            "band": 15765,
            "beak depth (mm)": 8.9,
            "beak length (mm)": 13.85,
            "species": "scandens",
            "year": 1987
           },
           {
            "band": 15243,
            "beak depth (mm)": 8.9,
            "beak length (mm)": 13.9,
            "species": "scandens",
            "year": 1987
           },
           {
            "band": 8441,
            "beak depth (mm)": 8.9,
            "beak length (mm)": 14.1,
            "species": "scandens",
            "year": 1987
           },
           {
            "band": 10067,
            "beak depth (mm)": 8.9,
            "beak length (mm)": 14.1,
            "species": "scandens",
            "year": 1987
           },
           {
            "band": 15406,
            "beak depth (mm)": 8.9,
            "beak length (mm)": 14.2,
            "species": "scandens",
            "year": 1987
           },
           {
            "band": 15234,
            "beak depth (mm)": 8.9,
            "beak length (mm)": 14.3,
            "species": "scandens",
            "year": 1987
           },
           {
            "band": 15608,
            "beak depth (mm)": 8.9,
            "beak length (mm)": 14.9,
            "species": "scandens",
            "year": 1987
           },
           {
            "band": 14758,
            "beak depth (mm)": 8.91,
            "beak length (mm)": 13.84,
            "species": "scandens",
            "year": 1987
           },
           {
            "band": 14835,
            "beak depth (mm)": 8.91,
            "beak length (mm)": 14.09,
            "species": "scandens",
            "year": 1987
           },
           {
            "band": 15882,
            "beak depth (mm)": 8.92,
            "beak length (mm)": 14.05,
            "species": "scandens",
            "year": 1987
           },
           {
            "band": 14787,
            "beak depth (mm)": 8.93,
            "beak length (mm)": 14.15,
            "species": "scandens",
            "year": 1987
           },
           {
            "band": 14727,
            "beak depth (mm)": 8.93,
            "beak length (mm)": 14.25,
            "species": "scandens",
            "year": 1987
           },
           {
            "band": 5351,
            "beak depth (mm)": 8.95,
            "beak length (mm)": 13.6,
            "species": "scandens",
            "year": 1987
           },
           {
            "band": 15859,
            "beak depth (mm)": 8.95,
            "beak length (mm)": 14.57,
            "species": "scandens",
            "year": 1987
           },
           {
            "band": 15721,
            "beak depth (mm)": 8.96,
            "beak length (mm)": 11.89,
            "species": "scandens",
            "year": 1987
           },
           {
            "band": 5663,
            "beak depth (mm)": 8.97,
            "beak length (mm)": 13.8,
            "species": "scandens",
            "year": 1987
           },
           {
            "band": 2543,
            "beak depth (mm)": 8.97,
            "beak length (mm)": 14.21,
            "species": "scandens",
            "year": 1987
           },
           {
            "band": 5013,
            "beak depth (mm)": 8.99,
            "beak length (mm)": 14.76,
            "species": "scandens",
            "year": 1987
           },
           {
            "band": 10394,
            "beak depth (mm)": 9,
            "beak length (mm)": 12.07,
            "species": "scandens",
            "year": 1987
           },
           {
            "band": 17548,
            "beak depth (mm)": 9,
            "beak length (mm)": 13.9,
            "species": "scandens",
            "year": 1987
           },
           {
            "band": 14647,
            "beak depth (mm)": 9,
            "beak length (mm)": 14.1,
            "species": "scandens",
            "year": 1987
           },
           {
            "band": 13548,
            "beak depth (mm)": 9,
            "beak length (mm)": 14.3,
            "species": "scandens",
            "year": 1987
           },
           {
            "band": 5345,
            "beak depth (mm)": 9,
            "beak length (mm)": 14.95,
            "species": "scandens",
            "year": 1987
           },
           {
            "band": 15760,
            "beak depth (mm)": 9.01,
            "beak length (mm)": 14.34,
            "species": "scandens",
            "year": 1987
           },
           {
            "band": 15685,
            "beak depth (mm)": 9.02,
            "beak length (mm)": 13.84,
            "species": "scandens",
            "year": 1987
           },
           {
            "band": 14731,
            "beak depth (mm)": 9.02,
            "beak length (mm)": 14.04,
            "species": "scandens",
            "year": 1987
           },
           {
            "band": 14906,
            "beak depth (mm)": 9.02,
            "beak length (mm)": 14.14,
            "species": "scandens",
            "year": 1987
           },
           {
            "band": 15330,
            "beak depth (mm)": 9.03,
            "beak length (mm)": 12.56,
            "species": "scandens",
            "year": 1987
           },
           {
            "band": 4577,
            "beak depth (mm)": 9.04,
            "beak length (mm)": 15.14,
            "species": "scandens",
            "year": 1987
           },
           {
            "band": 4744,
            "beak depth (mm)": 9.05,
            "beak length (mm)": 14.35,
            "species": "scandens",
            "year": 1987
           },
           {
            "band": 10984,
            "beak depth (mm)": 9.05,
            "beak length (mm)": 14.85,
            "species": "scandens",
            "year": 1987
           },
           {
            "band": 14759,
            "beak depth (mm)": 9.06,
            "beak length (mm)": 14.04,
            "species": "scandens",
            "year": 1987
           },
           {
            "band": 15639,
            "beak depth (mm)": 9.1,
            "beak length (mm)": 14.2,
            "species": "scandens",
            "year": 1987
           },
           {
            "band": 15090,
            "beak depth (mm)": 9.1,
            "beak length (mm)": 14.3,
            "species": "scandens",
            "year": 1987
           },
           {
            "band": 4221,
            "beak depth (mm)": 9.1,
            "beak length (mm)": 14.5,
            "species": "scandens",
            "year": 1987
           },
           {
            "band": 15422,
            "beak depth (mm)": 9.1,
            "beak length (mm)": 14.5,
            "species": "scandens",
            "year": 1987
           },
           {
            "band": 15441,
            "beak depth (mm)": 9.1,
            "beak length (mm)": 14.6,
            "species": "scandens",
            "year": 1987
           },
           {
            "band": 15736,
            "beak depth (mm)": 9.1,
            "beak length (mm)": 15,
            "species": "scandens",
            "year": 1987
           },
           {
            "band": 4683,
            "beak depth (mm)": 9.13,
            "beak length (mm)": 13.6,
            "species": "scandens",
            "year": 1987
           },
           {
            "band": 14768,
            "beak depth (mm)": 9.13,
            "beak length (mm)": 14.65,
            "species": "scandens",
            "year": 1987
           },
           {
            "band": 5375,
            "beak depth (mm)": 9.14,
            "beak length (mm)": 14.03,
            "species": "scandens",
            "year": 1987
           },
           {
            "band": 14843,
            "beak depth (mm)": 9.18,
            "beak length (mm)": 14.16,
            "species": "scandens",
            "year": 1987
           },
           {
            "band": 2554,
            "beak depth (mm)": 9.2,
            "beak length (mm)": 13.83,
            "species": "scandens",
            "year": 1987
           },
           {
            "band": 14995,
            "beak depth (mm)": 9.2,
            "beak length (mm)": 14.2,
            "species": "scandens",
            "year": 1987
           },
           {
            "band": 15638,
            "beak depth (mm)": 9.2,
            "beak length (mm)": 14.35,
            "species": "scandens",
            "year": 1987
           },
           {
            "band": 15837,
            "beak depth (mm)": 9.2,
            "beak length (mm)": 14.45,
            "species": "scandens",
            "year": 1987
           },
           {
            "band": 10002,
            "beak depth (mm)": 9.21,
            "beak length (mm)": 14.64,
            "species": "scandens",
            "year": 1987
           },
           {
            "band": 14584,
            "beak depth (mm)": 9.21,
            "beak length (mm)": 15.04,
            "species": "scandens",
            "year": 1987
           },
           {
            "band": 14730,
            "beak depth (mm)": 9.22,
            "beak length (mm)": 13.9,
            "species": "scandens",
            "year": 1987
           },
           {
            "band": 3458,
            "beak depth (mm)": 9.24,
            "beak length (mm)": 14.34,
            "species": "scandens",
            "year": 1987
           },
           {
            "band": 5911,
            "beak depth (mm)": 9.24,
            "beak length (mm)": 14.53,
            "species": "scandens",
            "year": 1987
           },
           {
            "band": 2760,
            "beak depth (mm)": 9.25,
            "beak length (mm)": 14.2,
            "species": "scandens",
            "year": 1987
           },
           {
            "band": 15812,
            "beak depth (mm)": 9.25,
            "beak length (mm)": 14.85,
            "species": "scandens",
            "year": 1987
           },
           {
            "band": 5367,
            "beak depth (mm)": 9.25,
            "beak length (mm)": 15.1,
            "species": "scandens",
            "year": 1987
           },
           {
            "band": 10174,
            "beak depth (mm)": 9.25,
            "beak length (mm)": 15.2,
            "species": "scandens",
            "year": 1987
           },
           {
            "band": 1645,
            "beak depth (mm)": 9.26,
            "beak length (mm)": 13.5,
            "species": "scandens",
            "year": 1987
           },
           {
            "band": 4090,
            "beak depth (mm)": 9.26,
            "beak length (mm)": 14.95,
            "species": "scandens",
            "year": 1987
           },
           {
            "band": 5576,
            "beak depth (mm)": 9.28,
            "beak length (mm)": 13.83,
            "species": "scandens",
            "year": 1987
           },
           {
            "band": 14975,
            "beak depth (mm)": 9.28,
            "beak length (mm)": 13.95,
            "species": "scandens",
            "year": 1987
           },
           {
            "band": 2877,
            "beak depth (mm)": 9.28,
            "beak length (mm)": 15.09,
            "species": "scandens",
            "year": 1987
           },
           {
            "band": 10206,
            "beak depth (mm)": 9.3,
            "beak length (mm)": 13.43,
            "species": "scandens",
            "year": 1987
           },
           {
            "band": 4778,
            "beak depth (mm)": 9.3,
            "beak length (mm)": 13.7,
            "species": "scandens",
            "year": 1987
           },
           {
            "band": 5322,
            "beak depth (mm)": 9.3,
            "beak length (mm)": 14,
            "species": "scandens",
            "year": 1987
           },
           {
            "band": 10207,
            "beak depth (mm)": 9.3,
            "beak length (mm)": 14.15,
            "species": "scandens",
            "year": 1987
           },
           {
            "band": 10740,
            "beak depth (mm)": 9.3,
            "beak length (mm)": 14.75,
            "species": "scandens",
            "year": 1987
           },
           {
            "band": 8450,
            "beak depth (mm)": 9.3,
            "beak length (mm)": 14.9,
            "species": "scandens",
            "year": 1987
           },
           {
            "band": 10517,
            "beak depth (mm)": 9.3,
            "beak length (mm)": 15,
            "species": "scandens",
            "year": 1987
           },
           {
            "band": 2758,
            "beak depth (mm)": 9.32,
            "beak length (mm)": 13.56,
            "species": "scandens",
            "year": 1987
           },
           {
            "band": 14729,
            "beak depth (mm)": 9.33,
            "beak length (mm)": 14.26,
            "species": "scandens",
            "year": 1987
           },
           {
            "band": 10743,
            "beak depth (mm)": 9.34,
            "beak length (mm)": 13.83,
            "species": "scandens",
            "year": 1987
           },
           {
            "band": 13527,
            "beak depth (mm)": 9.34,
            "beak length (mm)": 14.53,
            "species": "scandens",
            "year": 1987
           },
           {
            "band": 8444,
            "beak depth (mm)": 9.34,
            "beak length (mm)": 14.84,
            "species": "scandens",
            "year": 1987
           },
           {
            "band": 15738,
            "beak depth (mm)": 9.35,
            "beak length (mm)": 15,
            "species": "scandens",
            "year": 1987
           },
           {
            "band": 2445,
            "beak depth (mm)": 9.37,
            "beak length (mm)": 13.76,
            "species": "scandens",
            "year": 1987
           },
           {
            "band": 5931,
            "beak depth (mm)": 9.37,
            "beak length (mm)": 13.9,
            "species": "scandens",
            "year": 1987
           },
           {
            "band": 14728,
            "beak depth (mm)": 9.37,
            "beak length (mm)": 14.29,
            "species": "scandens",
            "year": 1987
           },
           {
            "band": 15615,
            "beak depth (mm)": 9.37,
            "beak length (mm)": 14.63,
            "species": "scandens",
            "year": 1987
           },
           {
            "band": 14646,
            "beak depth (mm)": 9.38,
            "beak length (mm)": 14.3,
            "species": "scandens",
            "year": 1987
           },
           {
            "band": 13526,
            "beak depth (mm)": 9.4,
            "beak length (mm)": 13.6,
            "species": "scandens",
            "year": 1987
           },
           {
            "band": 15343,
            "beak depth (mm)": 9.4,
            "beak length (mm)": 14.4,
            "species": "scandens",
            "year": 1987
           },
           {
            "band": 10105,
            "beak depth (mm)": 9.4,
            "beak length (mm)": 14.9,
            "species": "scandens",
            "year": 1987
           },
           {
            "band": 14645,
            "beak depth (mm)": 9.4,
            "beak length (mm)": 14.9,
            "species": "scandens",
            "year": 1987
           },
           {
            "band": 2433,
            "beak depth (mm)": 9.42,
            "beak length (mm)": 14.34,
            "species": "scandens",
            "year": 1987
           },
           {
            "band": 10268,
            "beak depth (mm)": 9.43,
            "beak length (mm)": 14.53,
            "species": "scandens",
            "year": 1987
           },
           {
            "band": 10245,
            "beak depth (mm)": 9.45,
            "beak length (mm)": 14.65,
            "species": "scandens",
            "year": 1987
           },
           {
            "band": 4706,
            "beak depth (mm)": 9.5,
            "beak length (mm)": 14.8,
            "species": "scandens",
            "year": 1987
           },
           {
            "band": 14918,
            "beak depth (mm)": 9.5,
            "beak length (mm)": 16,
            "species": "scandens",
            "year": 1987
           },
           {
            "band": 15694,
            "beak depth (mm)": 9.51,
            "beak length (mm)": 13.14,
            "species": "scandens",
            "year": 1987
           },
           {
            "band": 15421,
            "beak depth (mm)": 9.51,
            "beak length (mm)": 14.44,
            "species": "scandens",
            "year": 1987
           },
           {
            "band": 14208,
            "beak depth (mm)": 9.52,
            "beak length (mm)": 12.73,
            "species": "scandens",
            "year": 1987
           },
           {
            "band": 1396,
            "beak depth (mm)": 9.54,
            "beak length (mm)": 15.04,
            "species": "scandens",
            "year": 1987
           },
           {
            "band": 1444,
            "beak depth (mm)": 9.55,
            "beak length (mm)": 14.85,
            "species": "scandens",
            "year": 1987
           },
           {
            "band": 4051,
            "beak depth (mm)": 9.6,
            "beak length (mm)": 14.2,
            "species": "scandens",
            "year": 1987
           },
           {
            "band": 10061,
            "beak depth (mm)": 9.6,
            "beak length (mm)": 15.2,
            "species": "scandens",
            "year": 1987
           },
           {
            "band": 4701,
            "beak depth (mm)": 9.6,
            "beak length (mm)": 16,
            "species": "scandens",
            "year": 1987
           },
           {
            "band": 13257,
            "beak depth (mm)": 9.62,
            "beak length (mm)": 14.47,
            "species": "scandens",
            "year": 1987
           },
           {
            "band": 2949,
            "beak depth (mm)": 9.64,
            "beak length (mm)": 14.54,
            "species": "scandens",
            "year": 1987
           },
           {
            "band": 14946,
            "beak depth (mm)": 9.65,
            "beak length (mm)": 14.9,
            "species": "scandens",
            "year": 1987
           },
           {
            "band": 5656,
            "beak depth (mm)": 9.7,
            "beak length (mm)": 14.9,
            "species": "scandens",
            "year": 1987
           },
           {
            "band": 5608,
            "beak depth (mm)": 9.7,
            "beak length (mm)": 15.8,
            "species": "scandens",
            "year": 1987
           },
           {
            "band": 15352,
            "beak depth (mm)": 9.73,
            "beak length (mm)": 13.46,
            "species": "scandens",
            "year": 1987
           },
           {
            "band": 15817,
            "beak depth (mm)": 9.73,
            "beak length (mm)": 14.77,
            "species": "scandens",
            "year": 1987
           },
           {
            "band": 4119,
            "beak depth (mm)": 9.74,
            "beak length (mm)": 14.44,
            "species": "scandens",
            "year": 1987
           },
           {
            "band": 10223,
            "beak depth (mm)": 9.8,
            "beak length (mm)": 15.2,
            "species": "scandens",
            "year": 1987
           },
           {
            "band": 2969,
            "beak depth (mm)": 9.8,
            "beak length (mm)": 16,
            "species": "scandens",
            "year": 1987
           },
           {
            "band": 14648,
            "beak depth (mm)": 9.82,
            "beak length (mm)": 14.4,
            "species": "scandens",
            "year": 1987
           },
           {
            "band": 15658,
            "beak depth (mm)": 9.85,
            "beak length (mm)": 14.45,
            "species": "scandens",
            "year": 1987
           },
           {
            "band": 13256,
            "beak depth (mm)": 9.85,
            "beak length (mm)": 15.35,
            "species": "scandens",
            "year": 1987
           },
           {
            "band": 8425,
            "beak depth (mm)": 9.9,
            "beak length (mm)": 14.2,
            "species": "scandens",
            "year": 1987
           },
           {
            "band": 14524,
            "beak depth (mm)": 9.9,
            "beak length (mm)": 15.3,
            "species": "scandens",
            "year": 1987
           },
           {
            "band": 10075,
            "beak depth (mm)": 9.94,
            "beak length (mm)": 14.27,
            "species": "scandens",
            "year": 1987
           },
           {
            "band": 4137,
            "beak depth (mm)": 10,
            "beak length (mm)": 15.8,
            "species": "scandens",
            "year": 1987
           },
           {
            "band": 14847,
            "beak depth (mm)": 10.1,
            "beak length (mm)": 15.3,
            "species": "scandens",
            "year": 1987
           },
           {
            "band": 15886,
            "beak depth (mm)": 10.11,
            "beak length (mm)": 11.24,
            "species": "scandens",
            "year": 1987
           },
           {
            "band": 14877,
            "beak depth (mm)": 10.27,
            "beak length (mm)": 15.2,
            "species": "scandens",
            "year": 1987
           },
           {
            "band": 8036,
            "beak depth (mm)": 10.34,
            "beak length (mm)": 15.44,
            "species": "scandens",
            "year": 1987
           },
           {
            "band": 14579,
            "beak depth (mm)": 11.33,
            "beak length (mm)": 14.96,
            "species": "scandens",
            "year": 1987
           }
          ]
         },
         "encoding": {
          "x": {
           "field": "beak length (mm)",
           "scale": {
            "zero": false
           },
           "type": "quantitative"
          },
          "y": {
           "field": "beak depth (mm)",
           "scale": {
            "zero": false
           },
           "type": "quantitative"
          }
         },
         "mark": "point"
        }
       ]
      },
      "image/png": "[encoded data removed]",
      "text/plain": [
       "<VegaLite 2 object>\n",
       "\n",
       "If you see this message, it means the renderer has not been properly enabled\n",
       "for the frontend that you are using. For more information, see\n",
       "https://altair-viz.github.io/user_guide/troubleshooting.html\n"
      ]
     },
     "execution_count": 69,
     "metadata": {},
     "output_type": "execute_result"
    }
   ],
   "source": [
    "df_conf = pd.DataFrame({'x': x, 'high': high, 'low': low})\n",
    "\n",
    "conf = alt.Chart(df_conf\n",
    "    ).mark_area(\n",
    "        color='orange',\n",
    "        opacity=0.3\n",
    "    ).encode(\n",
    "        x=alt.X('x:Q', title='beak length (mm)', scale=alt.Scale(zero=False)),\n",
    "        y=alt.Y('low:Q', title='beak depth (mm)', scale=alt.Scale(zero=False)),\n",
    "        y2=alt.Y2('high:Q')\n",
    "    )\n",
    "\n",
    "conf + reg_line + dots"
   ]
  },
  {
   "cell_type": "code",
   "execution_count": null,
   "metadata": {},
   "outputs": [],
   "source": []
  }
 ],
 "metadata": {
  "kernelspec": {
   "display_name": "Python 3",
   "language": "python",
   "name": "python3"
  },
  "language_info": {
   "codemirror_mode": {
    "name": "ipython",
    "version": 3
   },
   "file_extension": ".py",
   "mimetype": "text/x-python",
   "name": "python",
   "nbconvert_exporter": "python",
   "pygments_lexer": "ipython3",
   "version": "3.6.5"
  }
 },
 "nbformat": 4,
 "nbformat_minor": 2
}
